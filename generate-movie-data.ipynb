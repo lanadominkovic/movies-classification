{
 "cells": [
  {
   "cell_type": "markdown",
   "id": "fa6b9b6a-a722-49fe-b1db-330e808ae2b3",
   "metadata": {},
   "source": [
    "```\n",
    "One such problem could be predicting the tags for a movie. In this case, each unique tag used by users to describe movies can be considered as a separate label. Given that users can create their own tags, and there are millions of users, the number of unique tags (and hence the output space) could potentially be in the order of millions.\n",
    "\n",
    "Predicting labels, especially in the context of a movie dataset like MovieLens, can have several advantages and use cases in business:\n",
    "Improved Recommendations: By predicting the tags that a user might apply to a movie, a system can provide more personalized and accurate recommendations. This can lead to increased user engagement and satisfaction.\n",
    "Better Understanding of User Preferences: Predicting tags can help a business understand what aspects of a movie a user cares about, which can be valuable for understanding user preferences and behavior.\n",
    "Targeted Marketing: If a business can predict what tags a user might apply to a movie, it can use this information to target marketing more effectively. For example, if a user is predicted to tag a movie with “romantic”, the business could recommend other romantic movies or offer promotions related to romantic movies.\n",
    "Content Curation and Management: Predicting tags can also be useful for content curation and management. For example, if a movie is predicted to be tagged as “violent” or “mature”, it could be flagged for review or given a certain rating.\n",
    "Enhanced Search Functionality: The predicted tags can be used to enhance the search functionality on a movie recommendation platform. Users can search for movies based on these tags, making the platform more user-friendly.\n",
    "Remember, the effectiveness of label prediction would depend on the quality of the prediction model and the richness of the input data. The more accurate the predictions and the more comprehensive the input data, the more valuable these predictions would be for the business. 😊\n",
    "\n",
    "```"
   ]
  },
  {
   "cell_type": "code",
   "execution_count": 1,
   "id": "781a78ae-57bd-4333-a374-ac8484aff4a5",
   "metadata": {
    "tags": []
   },
   "outputs": [],
   "source": [
    "import pandas as pd\n",
    "from sklearn.preprocessing import OneHotEncoder\n",
    "from sklearn.model_selection import train_test_split\n",
    "import numpy as np"
   ]
  },
  {
   "cell_type": "code",
   "execution_count": null,
   "id": "c13fb3c1-055b-4be7-98be-932dc296c30a",
   "metadata": {
    "tags": []
   },
   "outputs": [],
   "source": [
    "%%time\n",
    "\n",
    "tags = pd.read_csv('./ml-25m/tags.csv')\n",
    "\n",
    "movies = pd.read_csv('./ml-25m/movies.csv')\n",
    "\n",
    "ratings = pd.read_csv('./ml-25m/ratings.csv') # Ratings are made on a 5-star scale, with half-star increments (0.5 stars - 5.0 stars).\n",
    "\n",
    "links = pd.read_csv('./ml-25m/links.csv')"
   ]
  },
  {
   "cell_type": "code",
   "execution_count": null,
   "id": "6a415a97-da24-4295-8f18-b1738b4b4730",
   "metadata": {
    "tags": []
   },
   "outputs": [],
   "source": [
    "tags['tag'].nunique()"
   ]
  },
  {
   "cell_type": "code",
   "execution_count": null,
   "id": "65c24e37-3775-4284-aa55-8d81b7430016",
   "metadata": {
    "tags": []
   },
   "outputs": [],
   "source": [
    "links"
   ]
  },
  {
   "cell_type": "code",
   "execution_count": null,
   "id": "cd7eb1b4-b077-4dc0-9caa-c053f1f97b86",
   "metadata": {},
   "outputs": [],
   "source": [
    "data = pd.merge(pd.merge(movies, tags, on='movieId'), ratings, on=['userId', 'movieId'])"
   ]
  },
  {
   "cell_type": "code",
   "execution_count": null,
   "id": "24038163-172d-480a-a6d4-06ec36da3edc",
   "metadata": {
    "tags": []
   },
   "outputs": [],
   "source": [
    "unique_users = data['userId'].unique()\n",
    "\n",
    "train_users, test_users = train_test_split(unique_users, test_size=0.2, random_state=42)\n",
    "\n",
    "data_train = data[data['userId'].isin(train_users)]\n",
    "data_test = data[data['userId'].isin(test_users)]"
   ]
  },
  {
   "cell_type": "code",
   "execution_count": null,
   "id": "1ebd0be9-4ba6-42d7-b345-adc1b1830cf8",
   "metadata": {
    "tags": []
   },
   "outputs": [],
   "source": [
    "# train\n",
    "\n",
    "X_train = data_train[['userId', 'movieId', 'title', 'genres']] # movie id?\n",
    "\n",
    "enc = OneHotEncoder(handle_unknown='ignore')\n",
    "enc.fit(np.array(data_train['tag']).reshape(-1,1))\n",
    "Y_train = enc.transform(np.array(data_train['tag']).reshape(-1,1))"
   ]
  },
  {
   "cell_type": "code",
   "execution_count": null,
   "id": "ee3bab50-ee42-4858-9064-977d2c91dbdd",
   "metadata": {},
   "outputs": [],
   "source": [
    "X_train.shape, Y_train.shape"
   ]
  },
  {
   "cell_type": "code",
   "execution_count": null,
   "id": "b28891e0-fcfe-420a-9181-85ab10403555",
   "metadata": {
    "tags": []
   },
   "outputs": [],
   "source": [
    "!pip install aiohttp\n"
   ]
  },
  {
   "cell_type": "code",
   "execution_count": null,
   "id": "d770494d-36a0-40d5-b7da-fb067e57ccf9",
   "metadata": {
    "tags": []
   },
   "outputs": [],
   "source": [
    "links"
   ]
  },
  {
   "cell_type": "code",
   "execution_count": null,
   "id": "fb34c959-1c62-45ad-8c1d-6b06eb03408a",
   "metadata": {
    "tags": []
   },
   "outputs": [],
   "source": [
    "import requests\n",
    "\n",
    "movie_id = \"550\"\n",
    "url = f\"https://api.themoviedb.org/3/movie/{movie_id}?api_key={api_key}\"\n",
    "\n",
    "response = requests.get(url)\n",
    "movie_details = response.json()\n",
    "\n",
    "print(movie_details)\n"
   ]
  },
  {
   "cell_type": "code",
   "execution_count": null,
   "id": "07a71de2-a860-4120-8d2e-25c690e5c566",
   "metadata": {
    "tags": []
   },
   "outputs": [],
   "source": [
    "import aiohttp\n",
    "import asyncio\n",
    "import pandas as pd\n",
    "import time\n",
    "\n",
    "api_key = '790a4d02585590ff7ab5dc5246fd16eb'\n",
    "async def get_movie_details(tmdb_id, session):\n",
    "    url = f\"https://api.themoviedb.org/3/movie/{int(tmdb_id)}?api_key={api_key}&language=en-US\"\n",
    "    try:\n",
    "        async with session.get(url) as response:\n",
    "            data = await response.json()\n",
    "            # Extracting nested and list data\n",
    "            genres = ', '.join([genre['name'] for genre in data.get('genres', [])])\n",
    "            production_companies = ', '.join([company['name'] for company in data.get('production_companies', [])])\n",
    "            production_countries = ', '.join([country['name'] for country in data.get('production_countries', [])])\n",
    "            spoken_languages = ', '.join([language['english_name'] for language in data.get('spoken_languages', [])])\n",
    "            \n",
    "            # Constructing the dictionary to return\n",
    "            movie_details = {\n",
    "                'tmdb_id': tmdb_id,\n",
    "                'title': data.get('title', ''),\n",
    "                'original_title': data.get('original_title', ''),\n",
    "                'genres': genres,\n",
    "                'release_date': data.get('release_date', ''),\n",
    "                'rating': data.get('vote_average', ''),\n",
    "                'votes': data.get('vote_count', ''),\n",
    "                'original_language': data.get('original_language', ''),\n",
    "                'overview': data.get('overview', ''),\n",
    "                'popularity': data.get('popularity', ''),\n",
    "                'production_companies': production_companies,\n",
    "                'production_countries': production_countries,\n",
    "                'spoken_languages': spoken_languages,\n",
    "                'budget': data.get('budget', ''),\n",
    "                'revenue': data.get('revenue', ''),\n",
    "                'runtime': data.get('runtime', ''),\n",
    "                'status': data.get('status', ''),\n",
    "                'tagline': data.get('tagline', '')\n",
    "            }\n",
    "            return tmdb_id, movie_details\n",
    "    except Exception as e:\n",
    "        print(f\"Failed to fetch details for TMDB ID {tmdb_id}: {e}\")\n",
    "        return tmdb_id, {}\n",
    "\n",
    "async def fetch_details_concurrently(tmdb_ids):\n",
    "    async with aiohttp.ClientSession() as session:\n",
    "        movie_details_dict = {}\n",
    "        for i in range(0, len(tmdb_ids), 40):  # Process in batches of 40 to respect rate limit\n",
    "            batch = tmdb_ids[i:i+40]\n",
    "            tasks = [get_movie_details(tmdb_id, session) for tmdb_id in batch]\n",
    "            results = await asyncio.gather(*tasks)\n",
    "            for tmdb_id, details in results:\n",
    "                movie_details_dict[tmdb_id] = details\n",
    "            time.sleep(10)  # Pause to respect the API's rate limit\n",
    "        return movie_details_dict\n",
    "\n",
    "async def main(links):\n",
    "    tmdb_ids = links['tmdbId'].dropna().unique()  # Ensure unique IDs and drop NaN\n",
    "    movie_details_dict = await fetch_details_concurrently(tmdb_ids)\n",
    "    \n",
    "    # Update the `links` DataFrame with the fetched movie details\n",
    "    for tmdb_id, details in movie_details_dict.items():\n",
    "        for key, value in details.items():\n",
    "            links.loc[links['tmdbId'] == tmdb_id, key] = value\n",
    "\n",
    "    # Optionally, save the updated DataFrame\n",
    "    links.to_csv('updated_links_with_movie_details.csv', index=False)\n"
   ]
  },
  {
   "cell_type": "code",
   "execution_count": null,
   "id": "e68c0548-8813-4c54-aa8b-8f99d18218f5",
   "metadata": {
    "tags": []
   },
   "outputs": [],
   "source": [
    "await main(links)"
   ]
  },
  {
   "cell_type": "code",
   "execution_count": null,
   "id": "30f80a17-9c94-49e9-a676-7d2e65ea4157",
   "metadata": {
    "tags": []
   },
   "outputs": [],
   "source": [
    "movies_meta = pd.read_csv('updated_links_with_movie_details.csv')"
   ]
  },
  {
   "cell_type": "code",
   "execution_count": null,
   "id": "cd8e8a5b-d0ae-4340-a781-202d52e7cf06",
   "metadata": {
    "tags": []
   },
   "outputs": [],
   "source": [
    "movies_meta.drop_duplicates(subset=['tmdbId'], inplace=True)"
   ]
  },
  {
   "cell_type": "code",
   "execution_count": null,
   "id": "7f317bb8-9a64-402e-b557-7276763a54f3",
   "metadata": {
    "tags": []
   },
   "outputs": [],
   "source": [
    "links.shape"
   ]
  },
  {
   "cell_type": "code",
   "execution_count": null,
   "id": "4fe996a7-3498-4aca-a548-05dcab02e975",
   "metadata": {
    "tags": []
   },
   "outputs": [],
   "source": [
    "movies_meta.drop(columns=['imdbId', 'tmdb_id'], inplace=True)"
   ]
  },
  {
   "cell_type": "code",
   "execution_count": null,
   "id": "02bfccb6-a112-4487-9825-9bbbd6c56432",
   "metadata": {
    "tags": []
   },
   "outputs": [],
   "source": [
    "movies_meta"
   ]
  },
  {
   "cell_type": "code",
   "execution_count": null,
   "id": "ca1349ca-ba53-4d55-bace-0c7107bbd245",
   "metadata": {
    "tags": []
   },
   "outputs": [],
   "source": [
    "movies_meta.dropna(subset=['tmdbId'], inplace=True)"
   ]
  },
  {
   "cell_type": "code",
   "execution_count": null,
   "id": "7d79fa13-0fb7-44d0-a65b-559a7a5afb6e",
   "metadata": {
    "tags": []
   },
   "outputs": [],
   "source": [
    "movies_meta"
   ]
  },
  {
   "cell_type": "code",
   "execution_count": null,
   "id": "432b5e91-2adf-46cf-9a99-9b6776f7b4d8",
   "metadata": {
    "tags": []
   },
   "outputs": [],
   "source": [
    "data = pd.merge(movies_meta, tags, on='movieId', how='left')"
   ]
  },
  {
   "cell_type": "code",
   "execution_count": null,
   "id": "89b56ba8-2c7a-4014-b7d6-48c78000d64e",
   "metadata": {
    "tags": []
   },
   "outputs": [],
   "source": [
    "data"
   ]
  },
  {
   "cell_type": "code",
   "execution_count": null,
   "id": "e2bcf7ab-8e6e-4624-b83a-ec79f9cdae96",
   "metadata": {
    "tags": []
   },
   "outputs": [],
   "source": [
    "columns = ['movieId', 'tmdbId', 'title', 'genres', 'overview', 'production_companies', 'production_countries', 'spoken_languages', 'tagline', 'tag']"
   ]
  },
  {
   "cell_type": "code",
   "execution_count": null,
   "id": "13643939-c9b6-401d-a517-81adc98e2fc3",
   "metadata": {
    "tags": []
   },
   "outputs": [],
   "source": [
    "df = data[columns]\n",
    "df"
   ]
  },
  {
   "cell_type": "code",
   "execution_count": null,
   "id": "9897b23d-f390-4b9f-b438-f84a49b189ee",
   "metadata": {
    "tags": []
   },
   "outputs": [],
   "source": [
    "df.dropna(subset=['tag'], inplace=True)"
   ]
  },
  {
   "cell_type": "code",
   "execution_count": null,
   "id": "3de340de-4679-4978-bc7b-9d8949949066",
   "metadata": {
    "tags": []
   },
   "outputs": [],
   "source": [
    "# Assuming `df` is your DataFrame and it has 'movieId' and 'tag' columns\n",
    "# Group by 'movieId' and aggregate the tags into a list\n",
    "df_grouped = df.groupby('movieId').agg({\n",
    "    'title': 'first',  # Assuming title is the same for all entries with the same movieId\n",
    "    'genres': 'first',  # Assuming genres are the same for all entries with the same movieId\n",
    "    'overview': 'first',\n",
    "    'production_companies': 'first',\n",
    "    'production_countries': 'first',\n",
    "    'spoken_languages': 'first',\n",
    "    'tagline': 'first',\n",
    "    'tmdbId': 'first',\n",
    "    'tag': lambda x: ', '.join(x.astype(str).str.lower())\n",
    "}).reset_index()\n",
    "\n",
    "df_grouped"
   ]
  },
  {
   "cell_type": "code",
   "execution_count": null,
   "id": "5ec53b01-feb7-44bd-9944-acc96e8b8c75",
   "metadata": {
    "tags": []
   },
   "outputs": [],
   "source": [
    "df_grouped.fillna('')"
   ]
  },
  {
   "cell_type": "code",
   "execution_count": null,
   "id": "3b928185-5f49-4008-84fb-9eaded6af788",
   "metadata": {
    "tags": []
   },
   "outputs": [],
   "source": [
    "df_grouped.to_csv('movies_meta-part1.csv', index=False)"
   ]
  },
  {
   "cell_type": "code",
   "execution_count": null,
   "id": "7b4ccd6c-e4d4-4cfa-b8f6-a29c7027e5a9",
   "metadata": {
    "tags": []
   },
   "outputs": [],
   "source": [
    "# find empty ones and try to search it again\n",
    "columns_to_check = ['title', 'genres', 'overview', 'production_companies', \n",
    "                    'production_countries', 'spoken_languages', 'tagline']\n",
    "df_grouped.replace('', pd.NA, inplace=True)\n",
    "empty_rows = df_grouped[df_grouped[columns_to_check].isna().all(axis=1)]\n",
    "empty_rows"
   ]
  },
  {
   "cell_type": "code",
   "execution_count": null,
   "id": "b9d51368-356f-4140-b41f-b74df734c2e6",
   "metadata": {
    "tags": []
   },
   "outputs": [],
   "source": [
    "await main(empty_rows)"
   ]
  },
  {
   "cell_type": "code",
   "execution_count": null,
   "id": "e96fd106-6af4-4c9b-b3b7-1e084573a4ce",
   "metadata": {
    "tags": []
   },
   "outputs": [],
   "source": [
    "columns_to_check = ['title', 'genres', 'overview', 'production_companies', \n",
    "                    'production_countries', 'spoken_languages', 'tagline']\n",
    "\n",
    "df_grouped.replace('', pd.NA, inplace=True)\n",
    "\n",
    "# Drop rows where all the columns in columns_to_check are NaN\n",
    "df_grouped.dropna(subset=columns_to_check, how='all', inplace=True)\n",
    "df_grouped"
   ]
  },
  {
   "cell_type": "markdown",
   "id": "dd6f01c2-f253-40f6-9ab0-a4a4a70294e4",
   "metadata": {},
   "source": [
    "https://towardsdatascience.com/automated-movie-tagging-a-multiclass-classification-problem-721eb7fb70c2"
   ]
  },
  {
   "cell_type": "code",
   "execution_count": null,
   "id": "1fd31c70-e9aa-4327-af35-705f1a3fa181",
   "metadata": {
    "tags": []
   },
   "outputs": [],
   "source": [
    "m = pd.read_csv('updated_links_with_movie_details.csv')\n",
    "m"
   ]
  },
  {
   "cell_type": "code",
   "execution_count": null,
   "id": "c9860165-11c0-4e1c-849d-bf7d88e94f82",
   "metadata": {
    "tags": []
   },
   "outputs": [],
   "source": [
    "m.dropna(subset=columns_to_check, how='all', inplace=True)"
   ]
  },
  {
   "cell_type": "code",
   "execution_count": null,
   "id": "4b400513-8674-4d48-bfae-1da5fdd181a4",
   "metadata": {
    "tags": []
   },
   "outputs": [],
   "source": [
    "m.shape"
   ]
  },
  {
   "cell_type": "code",
   "execution_count": null,
   "id": "8a2ac9e1-5405-4f03-9988-f82a159494a5",
   "metadata": {
    "tags": []
   },
   "outputs": [],
   "source": [
    "df1 = m[columns]"
   ]
  },
  {
   "cell_type": "code",
   "execution_count": null,
   "id": "e1ab845b-a402-4761-b63c-af256aee5adb",
   "metadata": {
    "tags": []
   },
   "outputs": [],
   "source": [
    "df1"
   ]
  },
  {
   "cell_type": "code",
   "execution_count": null,
   "id": "02dd2658-ab8f-41c9-bc2e-395fc7135112",
   "metadata": {
    "tags": []
   },
   "outputs": [],
   "source": [
    "final_data = pd.concat([df_grouped, df1])"
   ]
  },
  {
   "cell_type": "code",
   "execution_count": null,
   "id": "f40201ac-2bbc-47f4-a059-4054d83087f6",
   "metadata": {
    "tags": []
   },
   "outputs": [],
   "source": [
    "final_data"
   ]
  },
  {
   "cell_type": "markdown",
   "id": "d1cc1c9b-a67b-4667-a2e4-f539d8b99271",
   "metadata": {
    "tags": []
   },
   "source": [
    "final_data.fillna('', inplace=True)"
   ]
  },
  {
   "cell_type": "code",
   "execution_count": 14,
   "id": "18bf1632-49d2-4624-8428-e8209ea01688",
   "metadata": {
    "tags": []
   },
   "outputs": [
    {
     "data": {
      "text/plain": [
       "0    dystopian futur group warrior must unit reclai...\n",
       "1    archeologist team adventur find mythic treasur...\n",
       "2                                                     \n",
       "3    team astronaut embark peril mission distant ga...\n",
       "4    detect investig strang occurr town plagu myste...\n",
       "Name: processed_overview, dtype: object"
      ]
     },
     "execution_count": 14,
     "metadata": {},
     "output_type": "execute_result"
    }
   ],
   "source": [
    "from nltk.stem import PorterStemmer\n",
    "\n",
    "stemmer = PorterStemmer()\n",
    "\n",
    "def stem_text(text):\n",
    "    words = text.split()\n",
    "    stemmed_words = [stemmer.stem(word) for word in words]\n",
    "    return ' '.join(stemmed_words)\n",
    "\n",
    "# Apply stemming to a DataFrame column\n",
    "df['processed_overview'] = df['processed_overview'].apply(stem_text)\n",
    "df['processed_overview']"
   ]
  },
  {
   "cell_type": "code",
   "execution_count": null,
   "id": "a6de42c8-11ea-4843-a9e1-26ebfa8ea7b1",
   "metadata": {
    "tags": []
   },
   "outputs": [],
   "source": [
    "final_data.drop(columns=['tmdbId'], inplace=True)"
   ]
  },
  {
   "cell_type": "code",
   "execution_count": null,
   "id": "63e5c0c2-4c93-4c26-9dba-63a2444d4b3e",
   "metadata": {
    "tags": []
   },
   "outputs": [],
   "source": [
    "final_data"
   ]
  },
  {
   "cell_type": "code",
   "execution_count": null,
   "id": "269e574e-eb6d-42ca-9051-211a2575abc7",
   "metadata": {
    "tags": []
   },
   "outputs": [],
   "source": [
    "final_data = pd.read_csv('movies_training_data.csv')"
   ]
  },
  {
   "cell_type": "code",
   "execution_count": null,
   "id": "f01016d0-e48f-4b14-b49d-9c361c859dd5",
   "metadata": {},
   "outputs": [],
   "source": [
    "final_data"
   ]
  },
  {
   "cell_type": "code",
   "execution_count": null,
   "id": "0359d3c3-2eeb-4266-aa73-8432ddbb4bd2",
   "metadata": {
    "tags": []
   },
   "outputs": [],
   "source": [
    "from sklearn.preprocessing import MultiLabelBinarizer\n",
    "\n",
    "mlb = MultiLabelBinarizer(sparse_output=True)\n",
    "tags_encoded = mlb.fit_transform(final_data['tag'].apply(lambda x: x.split(', ')))\n",
    "\n",
    "Y = tags_encoded\n",
    "Y"
   ]
  },
  {
   "cell_type": "code",
   "execution_count": null,
   "id": "4f9f9926-5647-40f0-80e3-2fca0eac70ef",
   "metadata": {
    "tags": []
   },
   "outputs": [],
   "source": [
    "from sklearn.base import TransformerMixin, BaseEstimator\n",
    "from sklearn.preprocessing import MultiLabelBinarizer\n",
    "import re\n",
    "import string\n",
    "\n",
    "class MultiLabelBinarizerTransformer(TransformerMixin, BaseEstimator):\n",
    "    def __init__(self):\n",
    "        self.mlb = MultiLabelBinarizer()\n",
    "    \n",
    "    def fit(self, X, y=None):\n",
    "        # Assume that X is a DataFrame with a single column of interest\n",
    "        self.mlb.fit(X.iloc[:, 0].str.lower().str.split(', ').apply(lambda x: x if isinstance(x, list) else []))\n",
    "        return self\n",
    "    \n",
    "    def transform(self, X, y=None):\n",
    "        # Transform the input DataFrame\n",
    "        X_transformed = self.mlb.transform(X.iloc[:, 0].str.lower().str.split(', ').apply(lambda x: x if isinstance(x, list) else []))\n",
    "        return X_transformed\n",
    "    \n",
    "    def get_feature_names_out(self, input_features=None):\n",
    "        # Generate feature names with a prefix using the class name of the transformer\n",
    "        class_name = self.__class__.__name__.lower()\n",
    "        return [f\"{class_name}_{class_}\" for class_ in self.mlb.classes_]\n",
    "    \n",
    "\n",
    "from nltk.stem import WordNetLemmatizer, PorterStemmer\n",
    "from nltk.tokenize import word_tokenize\n",
    "import nltk\n",
    "nltk.download('punkt')\n",
    "nltk.download('wordnet')\n",
    "\n",
    "class TextCombinerTransformer(BaseEstimator, TransformerMixin):\n",
    "    def __init__(self, columns_to_combine):\n",
    "        self.columns_to_combine = columns_to_combine\n",
    "        \n",
    "    def fit(self, X, y=None):\n",
    "        return self\n",
    "    \n",
    "    def transform(self, X):\n",
    "        # Combine specified columns into a single text column\n",
    "        combined_text = X[self.columns_to_combine].fillna('').apply(lambda x: ' '.join(x), axis=1)\n",
    "        return combined_text\n",
    "\n",
    "# Custom transformer to combine multiple text columns into a single text column\n",
    "class TextCleanerTransformer(BaseEstimator, TransformerMixin):\n",
    "    def __init__(self, remove_punctuation=True, lowercase=True, use_stemming=False, use_lemmatization=True):\n",
    "        self.remove_punctuation = remove_punctuation\n",
    "        self.lowercase = lowercase\n",
    "        self.use_stemming = use_stemming\n",
    "        self.use_lemmatization = use_lemmatization\n",
    "        self.stemmer = PorterStemmer()\n",
    "        self.lemmatizer = WordNetLemmatizer()\n",
    "    \n",
    "    def fit(self, X, y=None):\n",
    "        return self\n",
    "    \n",
    "    def transform(self, X):\n",
    "        if self.lowercase:\n",
    "            X = X.apply(lambda x: x.lower() if isinstance(x, str) else x)\n",
    "        \n",
    "        if self.remove_punctuation:\n",
    "            punctuation_pattern = re.compile('[%s]' % re.escape(string.punctuation))\n",
    "            X = X.apply(lambda x: re.sub(punctuation_pattern, '', x) if isinstance(x, str) else x)\n",
    "        \n",
    "        if self.use_stemming or self.use_lemmatization:\n",
    "            X = X.apply(self._apply_stemming_lemmatization)\n",
    "        \n",
    "        return X\n",
    "    \n",
    "    def _apply_stemming_lemmatization(self, text):\n",
    "        tokens = word_tokenize(text)\n",
    "        if self.use_stemming:\n",
    "            tokens = [self.stemmer.stem(token) for token in tokens]\n",
    "        if self.use_lemmatization:\n",
    "            tokens = [self.lemmatizer.lemmatize(token) for token in tokens]\n",
    "        return ' '.join(tokens)\n",
    "\n",
    "text_pipeline = Pipeline(steps=[\n",
    "    ('combine_text', TextCombinerTransformer(columns_to_combine=['overview', 'tagline'])),\n",
    "    ('clean_text', TextCleanerTransformer(remove_punctuation=True, lowercase=True)),\n",
    "    ('tfidf', TfidfVectorizer())\n",
    "])\n",
    "\n",
    "preprocessor = ColumnTransformer(\n",
    "    transformers=[\n",
    "        ('genres_mlb', MultiLabelBinarizerTransformer(), ['genres']),\n",
    "        ('production_countries_mlb', MultiLabelBinarizerTransformer(), ['production_countries']),\n",
    "        ('spoken_languages_mlb', MultiLabelBinarizerTransformer(), ['spoken_languages']),\n",
    "        ('text_processing', text_pipeline, ['overview', 'tagline', 'production_companies'])\n",
    "    ],\n",
    "    remainder='drop'  # maybe include title?\n",
    ")\n",
    "\n",
    "pipeline = Pipeline(steps=[\n",
    "    ('preprocessor', preprocessor)\n",
    "])"
   ]
  },
  {
   "cell_type": "code",
   "execution_count": null,
   "id": "f1c62385-da4a-40d5-96f0-67b61c40f244",
   "metadata": {
    "tags": []
   },
   "outputs": [],
   "source": [
    "test_data = final_data[:10]\n",
    "pipeline.fit(test_data.drop('tag', axis=1))\n",
    "X = pipeline.transform(test_data.drop('tag', axis=1))"
   ]
  },
  {
   "cell_type": "code",
   "execution_count": null,
   "id": "945d5513-354b-408c-9856-8f9e689e3d06",
   "metadata": {
    "tags": []
   },
   "outputs": [],
   "source": [
    "from sklearn.model_selection import train_test_split\n",
    "\n",
    "X_train, X_test, y_train, y_test = train_test_split(\n",
    "    X, \n",
    "    Y, \n",
    "    test_size=0.2, \n",
    "    random_state=42\n",
    "\n",
    ")\n",
    "\n",
    "X_train.shape, X_test.shape, y_train.shape, y_test.shape"
   ]
  },
  {
   "cell_type": "code",
   "execution_count": null,
   "id": "3c61c390-a8d6-4eaa-ad8e-e97b3a3bdcbf",
   "metadata": {
    "tags": []
   },
   "outputs": [],
   "source": [
    "final_data"
   ]
  },
  {
   "cell_type": "code",
   "execution_count": null,
   "id": "ba5c0e03-0048-421c-891a-4cca9bde0904",
   "metadata": {
    "tags": []
   },
   "outputs": [],
   "source": [
    "links[['movieId', 'tmdbId']]"
   ]
  },
  {
   "cell_type": "code",
   "execution_count": null,
   "id": "1beb52f1-b746-4d4f-af5c-5d9edef70e4a",
   "metadata": {
    "tags": []
   },
   "outputs": [],
   "source": [
    "with_tmdbid = pd.merge(final_data, links[['movieId', 'tmdbId']], on='movieId', how='left')"
   ]
  },
  {
   "cell_type": "code",
   "execution_count": null,
   "id": "1d65ce42-287e-4610-8b1b-18e860ea72b5",
   "metadata": {
    "tags": []
   },
   "outputs": [],
   "source": [
    "with_tmdbid"
   ]
  },
  {
   "cell_type": "code",
   "execution_count": null,
   "id": "f711c1d8-0ab4-4344-879f-43237f1d9ad0",
   "metadata": {
    "tags": []
   },
   "outputs": [],
   "source": [
    "async def get_movie_credits(tmdb_id, session):\n",
    "    credits_url = f\"https://api.themoviedb.org/3/movie/{int(tmdb_id)}/credits?api_key={api_key}\"\n",
    "    try:\n",
    "        async with session.get(credits_url) as response:\n",
    "            credits_data = await response.json()\n",
    "            # Extracting actors and directors\n",
    "            cast = ', '.join([person['name'] for person in credits_data.get('cast', [])][:5])  # top 5 actors\n",
    "            directors = ', '.join([person['name'] for person in credits_data.get('crew', []) if person['job'] == 'Director'])\n",
    "            \n",
    "            # Constructing the dictionary to return\n",
    "            credits_details = {\n",
    "                'cast': cast,\n",
    "                'directors': directors\n",
    "            }\n",
    "            return tmdb_id, credits_details\n",
    "    except Exception as e:\n",
    "        print(f\"Failed to fetch credits for TMDB ID {tmdb_id}: {e}\")\n",
    "        return tmdb_id, {}\n",
    "    \n",
    "async def fetch_details_concurrently(tmdb_ids, details_function):\n",
    "    async with aiohttp.ClientSession() as session:\n",
    "        movie_details_dict = {}\n",
    "        for i in range(0, len(tmdb_ids), 40):  # Process in batches of 40 to respect rate limit\n",
    "            batch = tmdb_ids[i:i+40]\n",
    "            tasks = [details_function(tmdb_id, session) for tmdb_id in batch]\n",
    "            results = await asyncio.gather(*tasks)\n",
    "            for tmdb_id, details in results:\n",
    "                movie_details_dict[tmdb_id] = details\n",
    "            time.sleep(10)  # Pause to respect the API's rate limit\n",
    "        return movie_details_dict\n",
    "\n",
    "\n",
    "async def main(links):\n",
    "    tmdb_ids = links['tmdbId'].dropna().unique()  # Ensure unique IDs and drop NaN\n",
    "    #movie_details_dict = await fetch_details_concurrently(tmdb_ids)\n",
    "    movie_credits_dict = await fetch_details_concurrently(tmdb_ids, get_movie_credits)  # Use the credits function\n",
    "    \n",
    "    for tmdb_id, credits in movie_credits_dict.items():\n",
    "        for key, value in credits.items():\n",
    "            links.loc[links['tmdbId'] == tmdb_id, key] = value\n",
    "\n",
    "    # Optionally, save the updated DataFrame\n",
    "    links.to_csv('updated_links_with_movie_details_and_credits.csv', index=False)\n"
   ]
  },
  {
   "cell_type": "code",
   "execution_count": null,
   "id": "77b0813b-6f95-4d8e-9f51-8977e5ea1121",
   "metadata": {
    "tags": []
   },
   "outputs": [],
   "source": [
    "await main(with_tmdbid)"
   ]
  },
  {
   "cell_type": "code",
   "execution_count": 2,
   "id": "deef9205-6a59-4a9a-af36-8c737281a9e6",
   "metadata": {
    "tags": []
   },
   "outputs": [],
   "source": [
    "movies = pd.read_csv('updated_links_with_movie_details_and_credits.csv')"
   ]
  },
  {
   "cell_type": "code",
   "execution_count": 3,
   "id": "55a58bf7-5d36-4204-95fe-eee4a1b9ae09",
   "metadata": {
    "tags": []
   },
   "outputs": [
    {
     "data": {
      "text/html": [
       "<div>\n",
       "<style scoped>\n",
       "    .dataframe tbody tr th:only-of-type {\n",
       "        vertical-align: middle;\n",
       "    }\n",
       "\n",
       "    .dataframe tbody tr th {\n",
       "        vertical-align: top;\n",
       "    }\n",
       "\n",
       "    .dataframe thead th {\n",
       "        text-align: right;\n",
       "    }\n",
       "</style>\n",
       "<table border=\"1\" class=\"dataframe\">\n",
       "  <thead>\n",
       "    <tr style=\"text-align: right;\">\n",
       "      <th></th>\n",
       "      <th>movieId</th>\n",
       "      <th>title</th>\n",
       "      <th>genres</th>\n",
       "      <th>overview</th>\n",
       "      <th>production_companies</th>\n",
       "      <th>production_countries</th>\n",
       "      <th>spoken_languages</th>\n",
       "      <th>tagline</th>\n",
       "      <th>tag</th>\n",
       "      <th>tmdbId</th>\n",
       "      <th>tmdb_id</th>\n",
       "      <th>cast</th>\n",
       "      <th>directors</th>\n",
       "    </tr>\n",
       "  </thead>\n",
       "  <tbody>\n",
       "    <tr>\n",
       "      <th>0</th>\n",
       "      <td>1</td>\n",
       "      <td>Toy Story</td>\n",
       "      <td>Animation, Adventure, Family, Comedy</td>\n",
       "      <td>Led by Woody, Andy's toys live happily in his ...</td>\n",
       "      <td>Pixar</td>\n",
       "      <td>United States of America</td>\n",
       "      <td>English</td>\n",
       "      <td>Hang on for the comedy that goes to infinity a...</td>\n",
       "      <td>owned, imdb top 250, pixar, pixar, time travel...</td>\n",
       "      <td>862.0</td>\n",
       "      <td>862.0</td>\n",
       "      <td>Tom Hanks, Tim Allen, Don Rickles, Jim Varney,...</td>\n",
       "      <td>John Lasseter</td>\n",
       "    </tr>\n",
       "    <tr>\n",
       "      <th>1</th>\n",
       "      <td>2</td>\n",
       "      <td>Jumanji</td>\n",
       "      <td>Adventure, Fantasy, Family</td>\n",
       "      <td>When siblings Judy and Peter discover an encha...</td>\n",
       "      <td>TriStar Pictures, Interscope Communications, T...</td>\n",
       "      <td>United States of America</td>\n",
       "      <td>English, French</td>\n",
       "      <td>Roll the dice and unleash the excitement!</td>\n",
       "      <td>robin williams, time travel, fantasy, based on...</td>\n",
       "      <td>8844.0</td>\n",
       "      <td>8844.0</td>\n",
       "      <td>Robin Williams, Kirsten Dunst, Bradley Pierce,...</td>\n",
       "      <td>Joe Johnston</td>\n",
       "    </tr>\n",
       "    <tr>\n",
       "      <th>2</th>\n",
       "      <td>3</td>\n",
       "      <td>Grumpier Old Men</td>\n",
       "      <td>Romance, Comedy</td>\n",
       "      <td>A family wedding reignites the ancient feud be...</td>\n",
       "      <td>Lancaster Gate, Warner Bros. Pictures</td>\n",
       "      <td>United States of America</td>\n",
       "      <td>English</td>\n",
       "      <td>Still Yelling. Still Fighting. Still Ready for...</td>\n",
       "      <td>funny, best friend, duringcreditsstinger, fish...</td>\n",
       "      <td>15602.0</td>\n",
       "      <td>15602.0</td>\n",
       "      <td>Walter Matthau, Jack Lemmon, Ann-Margret, Soph...</td>\n",
       "      <td>Howard Deutch</td>\n",
       "    </tr>\n",
       "    <tr>\n",
       "      <th>3</th>\n",
       "      <td>4</td>\n",
       "      <td>Waiting to Exhale</td>\n",
       "      <td>Comedy, Drama, Romance</td>\n",
       "      <td>Cheated on, mistreated and stepped on, the wom...</td>\n",
       "      <td>20th Century Fox</td>\n",
       "      <td>United States of America</td>\n",
       "      <td>English</td>\n",
       "      <td>Friends are the people who let you be yourself...</td>\n",
       "      <td>based on novel or book, chick flick, divorce, ...</td>\n",
       "      <td>31357.0</td>\n",
       "      <td>31357.0</td>\n",
       "      <td>Whitney Houston, Angela Bassett, Loretta Devin...</td>\n",
       "      <td>Forest Whitaker</td>\n",
       "    </tr>\n",
       "    <tr>\n",
       "      <th>4</th>\n",
       "      <td>5</td>\n",
       "      <td>Father of the Bride Part II</td>\n",
       "      <td>Comedy, Family</td>\n",
       "      <td>Just when George Banks has recovered from his ...</td>\n",
       "      <td>Touchstone Pictures, Sandollar Productions</td>\n",
       "      <td>United States of America</td>\n",
       "      <td>English</td>\n",
       "      <td>Just when his world is back to normal... he's ...</td>\n",
       "      <td>aging, baby, confidence, contraception, daught...</td>\n",
       "      <td>11862.0</td>\n",
       "      <td>11862.0</td>\n",
       "      <td>Steve Martin, Diane Keaton, Martin Short, Kimb...</td>\n",
       "      <td>Charles Shyer</td>\n",
       "    </tr>\n",
       "    <tr>\n",
       "      <th>...</th>\n",
       "      <td>...</td>\n",
       "      <td>...</td>\n",
       "      <td>...</td>\n",
       "      <td>...</td>\n",
       "      <td>...</td>\n",
       "      <td>...</td>\n",
       "      <td>...</td>\n",
       "      <td>...</td>\n",
       "      <td>...</td>\n",
       "      <td>...</td>\n",
       "      <td>...</td>\n",
       "      <td>...</td>\n",
       "      <td>...</td>\n",
       "    </tr>\n",
       "    <tr>\n",
       "      <th>17482</th>\n",
       "      <td>95581</td>\n",
       "      <td>The Flying Fleet</td>\n",
       "      <td>Adventure, Drama, Romance</td>\n",
       "      <td>Six friends, all hoping to become aviators, ar...</td>\n",
       "      <td>Metro-Goldwyn-Mayer</td>\n",
       "      <td>United States of America</td>\n",
       "      <td>NaN</td>\n",
       "      <td>NaN</td>\n",
       "      <td>aircraft carrier, aviator, expulsion, midshipm...</td>\n",
       "      <td>99934.0</td>\n",
       "      <td>99934.0</td>\n",
       "      <td>Ramon Novarro, Ralph Graves, Anita Page, Alfre...</td>\n",
       "      <td>George W. Hill</td>\n",
       "    </tr>\n",
       "    <tr>\n",
       "      <th>17483</th>\n",
       "      <td>95583</td>\n",
       "      <td>Savages</td>\n",
       "      <td>Crime, Drama, Thriller</td>\n",
       "      <td>Pot growers Ben and Chon face off against the ...</td>\n",
       "      <td>Relativity Media, Ixtlan, Onda Entertainment, ...</td>\n",
       "      <td>United States of America</td>\n",
       "      <td>English</td>\n",
       "      <td>Young. Beautiful. Deadly.</td>\n",
       "      <td>american abroad, dea, dea agent, enforcer, exp...</td>\n",
       "      <td>82525.0</td>\n",
       "      <td>82525.0</td>\n",
       "      <td>Taylor Kitsch, Blake Lively, Aaron Taylor-John...</td>\n",
       "      <td>Oliver Stone</td>\n",
       "    </tr>\n",
       "    <tr>\n",
       "      <th>17484</th>\n",
       "      <td>95591</td>\n",
       "      <td>Rat King</td>\n",
       "      <td>Thriller</td>\n",
       "      <td>18 year old Juri is seriously addicted to onli...</td>\n",
       "      <td>Making Movies, Allfilm</td>\n",
       "      <td>Finland, Estonia</td>\n",
       "      <td>Finnish</td>\n",
       "      <td>Would you put your life on the line?</td>\n",
       "      <td>visually stunning</td>\n",
       "      <td>104997.0</td>\n",
       "      <td>104997.0</td>\n",
       "      <td>Max Ovaska, Outi Mäenpää, Janne Virtanen, Juli...</td>\n",
       "      <td>Petri Kotwica</td>\n",
       "    </tr>\n",
       "    <tr>\n",
       "      <th>17485</th>\n",
       "      <td>95595</td>\n",
       "      <td>Bela Kiss: Prologue</td>\n",
       "      <td>Horror, Mystery, Thriller</td>\n",
       "      <td>A true story, Bela Kiss was one of the the mos...</td>\n",
       "      <td>Mirror Maze</td>\n",
       "      <td>Germany</td>\n",
       "      <td>English, German</td>\n",
       "      <td>Jede Legende fordert neues Blut</td>\n",
       "      <td>muddled, suspense</td>\n",
       "      <td>155288.0</td>\n",
       "      <td>155288.0</td>\n",
       "      <td>Kristina Klebe, Rudolf Martin, Fabian Stumm, B...</td>\n",
       "      <td>Lucien Förstner</td>\n",
       "    </tr>\n",
       "    <tr>\n",
       "      <th>17486</th>\n",
       "      <td>95611</td>\n",
       "      <td>Mooz-lum</td>\n",
       "      <td>Drama</td>\n",
       "      <td>Thanks to a strict Muslim upbringing that larg...</td>\n",
       "      <td>NaN</td>\n",
       "      <td>United States of America</td>\n",
       "      <td>English</td>\n",
       "      <td>NaN</td>\n",
       "      <td>independent film, detroit, muslims, religion</td>\n",
       "      <td>66025.0</td>\n",
       "      <td>66025.0</td>\n",
       "      <td>Nia Long, Danny Glover, Evan Ross, Summer Bishil</td>\n",
       "      <td>Qasim Basir</td>\n",
       "    </tr>\n",
       "  </tbody>\n",
       "</table>\n",
       "<p>17487 rows × 13 columns</p>\n",
       "</div>"
      ],
      "text/plain": [
       "       movieId                        title  \\\n",
       "0            1                    Toy Story   \n",
       "1            2                      Jumanji   \n",
       "2            3             Grumpier Old Men   \n",
       "3            4            Waiting to Exhale   \n",
       "4            5  Father of the Bride Part II   \n",
       "...        ...                          ...   \n",
       "17482    95581             The Flying Fleet   \n",
       "17483    95583                      Savages   \n",
       "17484    95591                     Rat King   \n",
       "17485    95595          Bela Kiss: Prologue   \n",
       "17486    95611                     Mooz-lum   \n",
       "\n",
       "                                     genres  \\\n",
       "0      Animation, Adventure, Family, Comedy   \n",
       "1                Adventure, Fantasy, Family   \n",
       "2                           Romance, Comedy   \n",
       "3                    Comedy, Drama, Romance   \n",
       "4                            Comedy, Family   \n",
       "...                                     ...   \n",
       "17482             Adventure, Drama, Romance   \n",
       "17483                Crime, Drama, Thriller   \n",
       "17484                              Thriller   \n",
       "17485             Horror, Mystery, Thriller   \n",
       "17486                                 Drama   \n",
       "\n",
       "                                                overview  \\\n",
       "0      Led by Woody, Andy's toys live happily in his ...   \n",
       "1      When siblings Judy and Peter discover an encha...   \n",
       "2      A family wedding reignites the ancient feud be...   \n",
       "3      Cheated on, mistreated and stepped on, the wom...   \n",
       "4      Just when George Banks has recovered from his ...   \n",
       "...                                                  ...   \n",
       "17482  Six friends, all hoping to become aviators, ar...   \n",
       "17483  Pot growers Ben and Chon face off against the ...   \n",
       "17484  18 year old Juri is seriously addicted to onli...   \n",
       "17485  A true story, Bela Kiss was one of the the mos...   \n",
       "17486  Thanks to a strict Muslim upbringing that larg...   \n",
       "\n",
       "                                    production_companies  \\\n",
       "0                                                  Pixar   \n",
       "1      TriStar Pictures, Interscope Communications, T...   \n",
       "2                  Lancaster Gate, Warner Bros. Pictures   \n",
       "3                                       20th Century Fox   \n",
       "4             Touchstone Pictures, Sandollar Productions   \n",
       "...                                                  ...   \n",
       "17482                                Metro-Goldwyn-Mayer   \n",
       "17483  Relativity Media, Ixtlan, Onda Entertainment, ...   \n",
       "17484                             Making Movies, Allfilm   \n",
       "17485                                        Mirror Maze   \n",
       "17486                                                NaN   \n",
       "\n",
       "           production_countries spoken_languages  \\\n",
       "0      United States of America          English   \n",
       "1      United States of America  English, French   \n",
       "2      United States of America          English   \n",
       "3      United States of America          English   \n",
       "4      United States of America          English   \n",
       "...                         ...              ...   \n",
       "17482  United States of America              NaN   \n",
       "17483  United States of America          English   \n",
       "17484          Finland, Estonia          Finnish   \n",
       "17485                   Germany  English, German   \n",
       "17486  United States of America          English   \n",
       "\n",
       "                                                 tagline  \\\n",
       "0      Hang on for the comedy that goes to infinity a...   \n",
       "1              Roll the dice and unleash the excitement!   \n",
       "2      Still Yelling. Still Fighting. Still Ready for...   \n",
       "3      Friends are the people who let you be yourself...   \n",
       "4      Just when his world is back to normal... he's ...   \n",
       "...                                                  ...   \n",
       "17482                                                NaN   \n",
       "17483                          Young. Beautiful. Deadly.   \n",
       "17484               Would you put your life on the line?   \n",
       "17485                    Jede Legende fordert neues Blut   \n",
       "17486                                                NaN   \n",
       "\n",
       "                                                     tag    tmdbId   tmdb_id  \\\n",
       "0      owned, imdb top 250, pixar, pixar, time travel...     862.0     862.0   \n",
       "1      robin williams, time travel, fantasy, based on...    8844.0    8844.0   \n",
       "2      funny, best friend, duringcreditsstinger, fish...   15602.0   15602.0   \n",
       "3      based on novel or book, chick flick, divorce, ...   31357.0   31357.0   \n",
       "4      aging, baby, confidence, contraception, daught...   11862.0   11862.0   \n",
       "...                                                  ...       ...       ...   \n",
       "17482  aircraft carrier, aviator, expulsion, midshipm...   99934.0   99934.0   \n",
       "17483  american abroad, dea, dea agent, enforcer, exp...   82525.0   82525.0   \n",
       "17484                                  visually stunning  104997.0  104997.0   \n",
       "17485                                  muddled, suspense  155288.0  155288.0   \n",
       "17486       independent film, detroit, muslims, religion   66025.0   66025.0   \n",
       "\n",
       "                                                    cast        directors  \n",
       "0      Tom Hanks, Tim Allen, Don Rickles, Jim Varney,...    John Lasseter  \n",
       "1      Robin Williams, Kirsten Dunst, Bradley Pierce,...     Joe Johnston  \n",
       "2      Walter Matthau, Jack Lemmon, Ann-Margret, Soph...    Howard Deutch  \n",
       "3      Whitney Houston, Angela Bassett, Loretta Devin...  Forest Whitaker  \n",
       "4      Steve Martin, Diane Keaton, Martin Short, Kimb...    Charles Shyer  \n",
       "...                                                  ...              ...  \n",
       "17482  Ramon Novarro, Ralph Graves, Anita Page, Alfre...   George W. Hill  \n",
       "17483  Taylor Kitsch, Blake Lively, Aaron Taylor-John...     Oliver Stone  \n",
       "17484  Max Ovaska, Outi Mäenpää, Janne Virtanen, Juli...    Petri Kotwica  \n",
       "17485  Kristina Klebe, Rudolf Martin, Fabian Stumm, B...  Lucien Förstner  \n",
       "17486   Nia Long, Danny Glover, Evan Ross, Summer Bishil      Qasim Basir  \n",
       "\n",
       "[17487 rows x 13 columns]"
      ]
     },
     "execution_count": 3,
     "metadata": {},
     "output_type": "execute_result"
    }
   ],
   "source": [
    "movies"
   ]
  },
  {
   "cell_type": "code",
   "execution_count": 4,
   "id": "823557ea-8319-4543-bccf-e4a00a1f5dba",
   "metadata": {
    "tags": []
   },
   "outputs": [
    {
     "data": {
      "text/plain": [
       "9"
      ]
     },
     "execution_count": 4,
     "metadata": {},
     "output_type": "execute_result"
    }
   ],
   "source": [
    "movies['directors'].isna().sum()"
   ]
  },
  {
   "cell_type": "code",
   "execution_count": 5,
   "id": "176e0218-9607-4a1a-ab39-6d0ddd76529f",
   "metadata": {
    "tags": []
   },
   "outputs": [],
   "source": [
    "movies = movies.drop(columns=['tmdb_id', 'tmdbId'])"
   ]
  },
  {
   "cell_type": "code",
   "execution_count": 6,
   "id": "900ca9a8-e9b5-49bb-85e6-b269e07add4b",
   "metadata": {
    "tags": []
   },
   "outputs": [
    {
     "data": {
      "text/html": [
       "<div>\n",
       "<style scoped>\n",
       "    .dataframe tbody tr th:only-of-type {\n",
       "        vertical-align: middle;\n",
       "    }\n",
       "\n",
       "    .dataframe tbody tr th {\n",
       "        vertical-align: top;\n",
       "    }\n",
       "\n",
       "    .dataframe thead th {\n",
       "        text-align: right;\n",
       "    }\n",
       "</style>\n",
       "<table border=\"1\" class=\"dataframe\">\n",
       "  <thead>\n",
       "    <tr style=\"text-align: right;\">\n",
       "      <th></th>\n",
       "      <th>movieId</th>\n",
       "      <th>title</th>\n",
       "      <th>genres</th>\n",
       "      <th>overview</th>\n",
       "      <th>production_companies</th>\n",
       "      <th>production_countries</th>\n",
       "      <th>spoken_languages</th>\n",
       "      <th>tagline</th>\n",
       "      <th>tag</th>\n",
       "      <th>cast</th>\n",
       "      <th>directors</th>\n",
       "    </tr>\n",
       "  </thead>\n",
       "  <tbody>\n",
       "    <tr>\n",
       "      <th>0</th>\n",
       "      <td>1</td>\n",
       "      <td>Toy Story</td>\n",
       "      <td>Animation, Adventure, Family, Comedy</td>\n",
       "      <td>Led by Woody, Andy's toys live happily in his ...</td>\n",
       "      <td>Pixar</td>\n",
       "      <td>United States of America</td>\n",
       "      <td>English</td>\n",
       "      <td>Hang on for the comedy that goes to infinity a...</td>\n",
       "      <td>owned, imdb top 250, pixar, pixar, time travel...</td>\n",
       "      <td>Tom Hanks, Tim Allen, Don Rickles, Jim Varney,...</td>\n",
       "      <td>John Lasseter</td>\n",
       "    </tr>\n",
       "    <tr>\n",
       "      <th>1</th>\n",
       "      <td>2</td>\n",
       "      <td>Jumanji</td>\n",
       "      <td>Adventure, Fantasy, Family</td>\n",
       "      <td>When siblings Judy and Peter discover an encha...</td>\n",
       "      <td>TriStar Pictures, Interscope Communications, T...</td>\n",
       "      <td>United States of America</td>\n",
       "      <td>English, French</td>\n",
       "      <td>Roll the dice and unleash the excitement!</td>\n",
       "      <td>robin williams, time travel, fantasy, based on...</td>\n",
       "      <td>Robin Williams, Kirsten Dunst, Bradley Pierce,...</td>\n",
       "      <td>Joe Johnston</td>\n",
       "    </tr>\n",
       "    <tr>\n",
       "      <th>2</th>\n",
       "      <td>3</td>\n",
       "      <td>Grumpier Old Men</td>\n",
       "      <td>Romance, Comedy</td>\n",
       "      <td>A family wedding reignites the ancient feud be...</td>\n",
       "      <td>Lancaster Gate, Warner Bros. Pictures</td>\n",
       "      <td>United States of America</td>\n",
       "      <td>English</td>\n",
       "      <td>Still Yelling. Still Fighting. Still Ready for...</td>\n",
       "      <td>funny, best friend, duringcreditsstinger, fish...</td>\n",
       "      <td>Walter Matthau, Jack Lemmon, Ann-Margret, Soph...</td>\n",
       "      <td>Howard Deutch</td>\n",
       "    </tr>\n",
       "    <tr>\n",
       "      <th>3</th>\n",
       "      <td>4</td>\n",
       "      <td>Waiting to Exhale</td>\n",
       "      <td>Comedy, Drama, Romance</td>\n",
       "      <td>Cheated on, mistreated and stepped on, the wom...</td>\n",
       "      <td>20th Century Fox</td>\n",
       "      <td>United States of America</td>\n",
       "      <td>English</td>\n",
       "      <td>Friends are the people who let you be yourself...</td>\n",
       "      <td>based on novel or book, chick flick, divorce, ...</td>\n",
       "      <td>Whitney Houston, Angela Bassett, Loretta Devin...</td>\n",
       "      <td>Forest Whitaker</td>\n",
       "    </tr>\n",
       "    <tr>\n",
       "      <th>4</th>\n",
       "      <td>5</td>\n",
       "      <td>Father of the Bride Part II</td>\n",
       "      <td>Comedy, Family</td>\n",
       "      <td>Just when George Banks has recovered from his ...</td>\n",
       "      <td>Touchstone Pictures, Sandollar Productions</td>\n",
       "      <td>United States of America</td>\n",
       "      <td>English</td>\n",
       "      <td>Just when his world is back to normal... he's ...</td>\n",
       "      <td>aging, baby, confidence, contraception, daught...</td>\n",
       "      <td>Steve Martin, Diane Keaton, Martin Short, Kimb...</td>\n",
       "      <td>Charles Shyer</td>\n",
       "    </tr>\n",
       "    <tr>\n",
       "      <th>...</th>\n",
       "      <td>...</td>\n",
       "      <td>...</td>\n",
       "      <td>...</td>\n",
       "      <td>...</td>\n",
       "      <td>...</td>\n",
       "      <td>...</td>\n",
       "      <td>...</td>\n",
       "      <td>...</td>\n",
       "      <td>...</td>\n",
       "      <td>...</td>\n",
       "      <td>...</td>\n",
       "    </tr>\n",
       "    <tr>\n",
       "      <th>17482</th>\n",
       "      <td>95581</td>\n",
       "      <td>The Flying Fleet</td>\n",
       "      <td>Adventure, Drama, Romance</td>\n",
       "      <td>Six friends, all hoping to become aviators, ar...</td>\n",
       "      <td>Metro-Goldwyn-Mayer</td>\n",
       "      <td>United States of America</td>\n",
       "      <td>NaN</td>\n",
       "      <td>NaN</td>\n",
       "      <td>aircraft carrier, aviator, expulsion, midshipm...</td>\n",
       "      <td>Ramon Novarro, Ralph Graves, Anita Page, Alfre...</td>\n",
       "      <td>George W. Hill</td>\n",
       "    </tr>\n",
       "    <tr>\n",
       "      <th>17483</th>\n",
       "      <td>95583</td>\n",
       "      <td>Savages</td>\n",
       "      <td>Crime, Drama, Thriller</td>\n",
       "      <td>Pot growers Ben and Chon face off against the ...</td>\n",
       "      <td>Relativity Media, Ixtlan, Onda Entertainment, ...</td>\n",
       "      <td>United States of America</td>\n",
       "      <td>English</td>\n",
       "      <td>Young. Beautiful. Deadly.</td>\n",
       "      <td>american abroad, dea, dea agent, enforcer, exp...</td>\n",
       "      <td>Taylor Kitsch, Blake Lively, Aaron Taylor-John...</td>\n",
       "      <td>Oliver Stone</td>\n",
       "    </tr>\n",
       "    <tr>\n",
       "      <th>17484</th>\n",
       "      <td>95591</td>\n",
       "      <td>Rat King</td>\n",
       "      <td>Thriller</td>\n",
       "      <td>18 year old Juri is seriously addicted to onli...</td>\n",
       "      <td>Making Movies, Allfilm</td>\n",
       "      <td>Finland, Estonia</td>\n",
       "      <td>Finnish</td>\n",
       "      <td>Would you put your life on the line?</td>\n",
       "      <td>visually stunning</td>\n",
       "      <td>Max Ovaska, Outi Mäenpää, Janne Virtanen, Juli...</td>\n",
       "      <td>Petri Kotwica</td>\n",
       "    </tr>\n",
       "    <tr>\n",
       "      <th>17485</th>\n",
       "      <td>95595</td>\n",
       "      <td>Bela Kiss: Prologue</td>\n",
       "      <td>Horror, Mystery, Thriller</td>\n",
       "      <td>A true story, Bela Kiss was one of the the mos...</td>\n",
       "      <td>Mirror Maze</td>\n",
       "      <td>Germany</td>\n",
       "      <td>English, German</td>\n",
       "      <td>Jede Legende fordert neues Blut</td>\n",
       "      <td>muddled, suspense</td>\n",
       "      <td>Kristina Klebe, Rudolf Martin, Fabian Stumm, B...</td>\n",
       "      <td>Lucien Förstner</td>\n",
       "    </tr>\n",
       "    <tr>\n",
       "      <th>17486</th>\n",
       "      <td>95611</td>\n",
       "      <td>Mooz-lum</td>\n",
       "      <td>Drama</td>\n",
       "      <td>Thanks to a strict Muslim upbringing that larg...</td>\n",
       "      <td>NaN</td>\n",
       "      <td>United States of America</td>\n",
       "      <td>English</td>\n",
       "      <td>NaN</td>\n",
       "      <td>independent film, detroit, muslims, religion</td>\n",
       "      <td>Nia Long, Danny Glover, Evan Ross, Summer Bishil</td>\n",
       "      <td>Qasim Basir</td>\n",
       "    </tr>\n",
       "  </tbody>\n",
       "</table>\n",
       "<p>17487 rows × 11 columns</p>\n",
       "</div>"
      ],
      "text/plain": [
       "       movieId                        title  \\\n",
       "0            1                    Toy Story   \n",
       "1            2                      Jumanji   \n",
       "2            3             Grumpier Old Men   \n",
       "3            4            Waiting to Exhale   \n",
       "4            5  Father of the Bride Part II   \n",
       "...        ...                          ...   \n",
       "17482    95581             The Flying Fleet   \n",
       "17483    95583                      Savages   \n",
       "17484    95591                     Rat King   \n",
       "17485    95595          Bela Kiss: Prologue   \n",
       "17486    95611                     Mooz-lum   \n",
       "\n",
       "                                     genres  \\\n",
       "0      Animation, Adventure, Family, Comedy   \n",
       "1                Adventure, Fantasy, Family   \n",
       "2                           Romance, Comedy   \n",
       "3                    Comedy, Drama, Romance   \n",
       "4                            Comedy, Family   \n",
       "...                                     ...   \n",
       "17482             Adventure, Drama, Romance   \n",
       "17483                Crime, Drama, Thriller   \n",
       "17484                              Thriller   \n",
       "17485             Horror, Mystery, Thriller   \n",
       "17486                                 Drama   \n",
       "\n",
       "                                                overview  \\\n",
       "0      Led by Woody, Andy's toys live happily in his ...   \n",
       "1      When siblings Judy and Peter discover an encha...   \n",
       "2      A family wedding reignites the ancient feud be...   \n",
       "3      Cheated on, mistreated and stepped on, the wom...   \n",
       "4      Just when George Banks has recovered from his ...   \n",
       "...                                                  ...   \n",
       "17482  Six friends, all hoping to become aviators, ar...   \n",
       "17483  Pot growers Ben and Chon face off against the ...   \n",
       "17484  18 year old Juri is seriously addicted to onli...   \n",
       "17485  A true story, Bela Kiss was one of the the mos...   \n",
       "17486  Thanks to a strict Muslim upbringing that larg...   \n",
       "\n",
       "                                    production_companies  \\\n",
       "0                                                  Pixar   \n",
       "1      TriStar Pictures, Interscope Communications, T...   \n",
       "2                  Lancaster Gate, Warner Bros. Pictures   \n",
       "3                                       20th Century Fox   \n",
       "4             Touchstone Pictures, Sandollar Productions   \n",
       "...                                                  ...   \n",
       "17482                                Metro-Goldwyn-Mayer   \n",
       "17483  Relativity Media, Ixtlan, Onda Entertainment, ...   \n",
       "17484                             Making Movies, Allfilm   \n",
       "17485                                        Mirror Maze   \n",
       "17486                                                NaN   \n",
       "\n",
       "           production_countries spoken_languages  \\\n",
       "0      United States of America          English   \n",
       "1      United States of America  English, French   \n",
       "2      United States of America          English   \n",
       "3      United States of America          English   \n",
       "4      United States of America          English   \n",
       "...                         ...              ...   \n",
       "17482  United States of America              NaN   \n",
       "17483  United States of America          English   \n",
       "17484          Finland, Estonia          Finnish   \n",
       "17485                   Germany  English, German   \n",
       "17486  United States of America          English   \n",
       "\n",
       "                                                 tagline  \\\n",
       "0      Hang on for the comedy that goes to infinity a...   \n",
       "1              Roll the dice and unleash the excitement!   \n",
       "2      Still Yelling. Still Fighting. Still Ready for...   \n",
       "3      Friends are the people who let you be yourself...   \n",
       "4      Just when his world is back to normal... he's ...   \n",
       "...                                                  ...   \n",
       "17482                                                NaN   \n",
       "17483                          Young. Beautiful. Deadly.   \n",
       "17484               Would you put your life on the line?   \n",
       "17485                    Jede Legende fordert neues Blut   \n",
       "17486                                                NaN   \n",
       "\n",
       "                                                     tag  \\\n",
       "0      owned, imdb top 250, pixar, pixar, time travel...   \n",
       "1      robin williams, time travel, fantasy, based on...   \n",
       "2      funny, best friend, duringcreditsstinger, fish...   \n",
       "3      based on novel or book, chick flick, divorce, ...   \n",
       "4      aging, baby, confidence, contraception, daught...   \n",
       "...                                                  ...   \n",
       "17482  aircraft carrier, aviator, expulsion, midshipm...   \n",
       "17483  american abroad, dea, dea agent, enforcer, exp...   \n",
       "17484                                  visually stunning   \n",
       "17485                                  muddled, suspense   \n",
       "17486       independent film, detroit, muslims, religion   \n",
       "\n",
       "                                                    cast        directors  \n",
       "0      Tom Hanks, Tim Allen, Don Rickles, Jim Varney,...    John Lasseter  \n",
       "1      Robin Williams, Kirsten Dunst, Bradley Pierce,...     Joe Johnston  \n",
       "2      Walter Matthau, Jack Lemmon, Ann-Margret, Soph...    Howard Deutch  \n",
       "3      Whitney Houston, Angela Bassett, Loretta Devin...  Forest Whitaker  \n",
       "4      Steve Martin, Diane Keaton, Martin Short, Kimb...    Charles Shyer  \n",
       "...                                                  ...              ...  \n",
       "17482  Ramon Novarro, Ralph Graves, Anita Page, Alfre...   George W. Hill  \n",
       "17483  Taylor Kitsch, Blake Lively, Aaron Taylor-John...     Oliver Stone  \n",
       "17484  Max Ovaska, Outi Mäenpää, Janne Virtanen, Juli...    Petri Kotwica  \n",
       "17485  Kristina Klebe, Rudolf Martin, Fabian Stumm, B...  Lucien Förstner  \n",
       "17486   Nia Long, Danny Glover, Evan Ross, Summer Bishil      Qasim Basir  \n",
       "\n",
       "[17487 rows x 11 columns]"
      ]
     },
     "execution_count": 6,
     "metadata": {},
     "output_type": "execute_result"
    }
   ],
   "source": [
    "movies"
   ]
  },
  {
   "cell_type": "code",
   "execution_count": 7,
   "id": "07611f9b-d70b-48b3-845e-43ef963acb9d",
   "metadata": {
    "tags": []
   },
   "outputs": [],
   "source": [
    "movies.fillna('', inplace=True)"
   ]
  },
  {
   "cell_type": "code",
   "execution_count": 8,
   "id": "9e7e1415-a345-4efd-8773-a760e56512ec",
   "metadata": {
    "tags": []
   },
   "outputs": [],
   "source": [
    "movies.to_csv('movies_training_data.csv', index=False)"
   ]
  },
  {
   "cell_type": "code",
   "execution_count": null,
   "id": "5d89551f-2c6f-45ed-81eb-e8f9ce23e180",
   "metadata": {},
   "outputs": [],
   "source": []
  }
 ],
 "metadata": {
  "kernelspec": {
   "display_name": "research-env-py38",
   "language": "python",
   "name": "research-env-py38"
  },
  "language_info": {
   "codemirror_mode": {
    "name": "ipython",
    "version": 3
   },
   "file_extension": ".py",
   "mimetype": "text/x-python",
   "name": "python",
   "nbconvert_exporter": "python",
   "pygments_lexer": "ipython3",
   "version": "3.8.18"
  }
 },
 "nbformat": 4,
 "nbformat_minor": 5
}
