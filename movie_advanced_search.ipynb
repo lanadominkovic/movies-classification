{
 "cells": [
  {
   "cell_type": "code",
   "execution_count": 74,
   "id": "567180d0-22ba-4215-a6eb-30286794e339",
   "metadata": {
    "tags": []
   },
   "outputs": [
    {
     "ename": "ImportError",
     "evalue": "cannot import name 'GPT4Tokenizer' from 'transformers' (/Library/Frameworks/Python.framework/Versions/3.10/lib/python3.10/site-packages/transformers/__init__.py)",
     "output_type": "error",
     "traceback": [
      "\u001b[0;31m---------------------------------------------------------------------------\u001b[0m",
      "\u001b[0;31mImportError\u001b[0m                               Traceback (most recent call last)",
      "Input \u001b[0;32mIn [74]\u001b[0m, in \u001b[0;36m<cell line: 2>\u001b[0;34m()\u001b[0m\n\u001b[1;32m      1\u001b[0m \u001b[38;5;28;01mimport\u001b[39;00m \u001b[38;5;21;01mpandas\u001b[39;00m \u001b[38;5;28;01mas\u001b[39;00m \u001b[38;5;21;01mpd\u001b[39;00m\n\u001b[0;32m----> 2\u001b[0m \u001b[38;5;28;01mfrom\u001b[39;00m \u001b[38;5;21;01mtransformers\u001b[39;00m \u001b[38;5;28;01mimport\u001b[39;00m GPT4Tokenizer\n",
      "\u001b[0;31mImportError\u001b[0m: cannot import name 'GPT4Tokenizer' from 'transformers' (/Library/Frameworks/Python.framework/Versions/3.10/lib/python3.10/site-packages/transformers/__init__.py)"
     ]
    }
   ],
   "source": [
    "import pandas as pd\n",
    "from transformers import GPT4Tokenizer"
   ]
  },
  {
   "cell_type": "code",
   "execution_count": null,
   "id": "baf22c82-293c-4b6f-8093-53815d48d345",
   "metadata": {},
   "outputs": [],
   "source": []
  },
  {
   "cell_type": "code",
   "execution_count": 16,
   "id": "a0c13e61-2f66-4cd1-8efd-36bbadf915f8",
   "metadata": {
    "tags": []
   },
   "outputs": [],
   "source": [
    "# Load and prepare datasets"
   ]
  },
  {
   "cell_type": "code",
   "execution_count": 21,
   "id": "0de69532-9b9c-4ffe-a6ae-e6304024f627",
   "metadata": {
    "tags": []
   },
   "outputs": [
    {
     "data": {
      "text/plain": [
       "(8807, 12)"
      ]
     },
     "execution_count": 21,
     "metadata": {},
     "output_type": "execute_result"
    }
   ],
   "source": [
    "df_netflix = pd.read_csv(\"./data/netflix_titles.csv\", parse_dates = [\"date_added\"])\n",
    "df_netflix.shape"
   ]
  },
  {
   "cell_type": "code",
   "execution_count": 20,
   "id": "e709ad75-68a4-452f-8882-da16d12cdb3a",
   "metadata": {
    "tags": []
   },
   "outputs": [
    {
     "data": {
      "text/plain": [
       "Index(['show_id', 'type', 'title', 'director', 'cast', 'country', 'date_added',\n",
       "       'release_year', 'rating', 'duration', 'listed_in', 'description'],\n",
       "      dtype='object')"
      ]
     },
     "execution_count": 20,
     "metadata": {},
     "output_type": "execute_result"
    }
   ],
   "source": [
    "df_netflix.columns"
   ]
  },
  {
   "cell_type": "code",
   "execution_count": 22,
   "id": "173a1f05-d8fb-4f94-9de1-4528f56315a6",
   "metadata": {
    "tags": []
   },
   "outputs": [
    {
     "data": {
      "text/plain": [
       "(1450, 12)"
      ]
     },
     "execution_count": 22,
     "metadata": {},
     "output_type": "execute_result"
    }
   ],
   "source": [
    "df_disney = pd.read_csv(\"./data/disney_plus_titles.csv\")\n",
    "df_disney.shape"
   ]
  },
  {
   "cell_type": "code",
   "execution_count": 23,
   "id": "3b35e860-15ed-46a3-b9e3-4257c5391719",
   "metadata": {
    "tags": []
   },
   "outputs": [
    {
     "data": {
      "text/plain": [
       "Index(['show_id', 'type', 'title', 'director', 'cast', 'country', 'date_added',\n",
       "       'release_year', 'rating', 'duration', 'listed_in', 'description'],\n",
       "      dtype='object')"
      ]
     },
     "execution_count": 23,
     "metadata": {},
     "output_type": "execute_result"
    }
   ],
   "source": [
    "df_disney.columns"
   ]
  },
  {
   "cell_type": "code",
   "execution_count": 27,
   "id": "053acaa0-0a67-4631-b332-d5d6f8e27019",
   "metadata": {
    "tags": []
   },
   "outputs": [
    {
     "data": {
      "text/plain": [
       "(3073, 12)"
      ]
     },
     "execution_count": 27,
     "metadata": {},
     "output_type": "execute_result"
    }
   ],
   "source": [
    "df_hulu = pd.read_csv(\"./data/hulu_titles.csv\")\n",
    "df_hulu.shape"
   ]
  },
  {
   "cell_type": "code",
   "execution_count": 29,
   "id": "cf118309-95b2-4b78-857c-ca40899cd5ca",
   "metadata": {
    "tags": []
   },
   "outputs": [
    {
     "data": {
      "text/plain": [
       "Index(['show_id', 'type', 'title', 'director', 'cast', 'country', 'date_added',\n",
       "       'release_year', 'rating', 'duration', 'listed_in', 'description'],\n",
       "      dtype='object')"
      ]
     },
     "execution_count": 29,
     "metadata": {},
     "output_type": "execute_result"
    }
   ],
   "source": [
    "df_hulu.columns"
   ]
  },
  {
   "cell_type": "code",
   "execution_count": 30,
   "id": "f2368c05-7c77-4847-88ab-dacdc29eec9b",
   "metadata": {
    "tags": []
   },
   "outputs": [
    {
     "data": {
      "text/plain": [
       "(9668, 12)"
      ]
     },
     "execution_count": 30,
     "metadata": {},
     "output_type": "execute_result"
    }
   ],
   "source": [
    "df_amazon = pd.read_csv(\"./data/amazon_prime_titles.csv\")\n",
    "df_amazon.shape"
   ]
  },
  {
   "cell_type": "code",
   "execution_count": 31,
   "id": "0c4b8ea5-5cb6-4b0e-99d4-87644a1ab44d",
   "metadata": {
    "tags": []
   },
   "outputs": [
    {
     "data": {
      "text/plain": [
       "Index(['show_id', 'type', 'title', 'director', 'cast', 'country', 'date_added',\n",
       "       'release_year', 'rating', 'duration', 'listed_in', 'description'],\n",
       "      dtype='object')"
      ]
     },
     "execution_count": 31,
     "metadata": {},
     "output_type": "execute_result"
    }
   ],
   "source": [
    "df_amazon.columns"
   ]
  },
  {
   "cell_type": "code",
   "execution_count": 33,
   "id": "c4fdaa30-4e65-4aa7-a1b9-7b0435055067",
   "metadata": {
    "tags": []
   },
   "outputs": [
    {
     "data": {
      "text/plain": [
       "(22998, 12)"
      ]
     },
     "execution_count": 33,
     "metadata": {},
     "output_type": "execute_result"
    }
   ],
   "source": [
    "df_stream = pd.concat([df_netflix, df_disney, df_hulu, df_amazon])\n",
    "df_stream.shape"
   ]
  },
  {
   "cell_type": "code",
   "execution_count": 35,
   "id": "eef31ff0-a8c2-42d6-932a-e4759006d69b",
   "metadata": {
    "tags": []
   },
   "outputs": [
    {
     "data": {
      "text/html": [
       "<div>\n",
       "<style scoped>\n",
       "    .dataframe tbody tr th:only-of-type {\n",
       "        vertical-align: middle;\n",
       "    }\n",
       "\n",
       "    .dataframe tbody tr th {\n",
       "        vertical-align: top;\n",
       "    }\n",
       "\n",
       "    .dataframe thead th {\n",
       "        text-align: right;\n",
       "    }\n",
       "</style>\n",
       "<table border=\"1\" class=\"dataframe\">\n",
       "  <thead>\n",
       "    <tr style=\"text-align: right;\">\n",
       "      <th></th>\n",
       "      <th>show_id</th>\n",
       "      <th>type</th>\n",
       "      <th>title</th>\n",
       "      <th>director</th>\n",
       "      <th>cast</th>\n",
       "      <th>country</th>\n",
       "      <th>date_added</th>\n",
       "      <th>release_year</th>\n",
       "      <th>rating</th>\n",
       "      <th>duration</th>\n",
       "      <th>listed_in</th>\n",
       "      <th>description</th>\n",
       "    </tr>\n",
       "  </thead>\n",
       "  <tbody>\n",
       "    <tr>\n",
       "      <th>0</th>\n",
       "      <td>s1</td>\n",
       "      <td>Movie</td>\n",
       "      <td>Dick Johnson Is Dead</td>\n",
       "      <td>Kirsten Johnson</td>\n",
       "      <td>NaN</td>\n",
       "      <td>United States</td>\n",
       "      <td>2021-09-25 00:00:00</td>\n",
       "      <td>2020</td>\n",
       "      <td>PG-13</td>\n",
       "      <td>90 min</td>\n",
       "      <td>Documentaries</td>\n",
       "      <td>As her father nears the end of his life, filmm...</td>\n",
       "    </tr>\n",
       "    <tr>\n",
       "      <th>1</th>\n",
       "      <td>s2</td>\n",
       "      <td>TV Show</td>\n",
       "      <td>Blood &amp; Water</td>\n",
       "      <td>NaN</td>\n",
       "      <td>Ama Qamata, Khosi Ngema, Gail Mabalane, Thaban...</td>\n",
       "      <td>South Africa</td>\n",
       "      <td>2021-09-24 00:00:00</td>\n",
       "      <td>2021</td>\n",
       "      <td>TV-MA</td>\n",
       "      <td>2 Seasons</td>\n",
       "      <td>International TV Shows, TV Dramas, TV Mysteries</td>\n",
       "      <td>After crossing paths at a party, a Cape Town t...</td>\n",
       "    </tr>\n",
       "    <tr>\n",
       "      <th>2</th>\n",
       "      <td>s3</td>\n",
       "      <td>TV Show</td>\n",
       "      <td>Ganglands</td>\n",
       "      <td>Julien Leclercq</td>\n",
       "      <td>Sami Bouajila, Tracy Gotoas, Samuel Jouy, Nabi...</td>\n",
       "      <td>NaN</td>\n",
       "      <td>2021-09-24 00:00:00</td>\n",
       "      <td>2021</td>\n",
       "      <td>TV-MA</td>\n",
       "      <td>1 Season</td>\n",
       "      <td>Crime TV Shows, International TV Shows, TV Act...</td>\n",
       "      <td>To protect his family from a powerful drug lor...</td>\n",
       "    </tr>\n",
       "    <tr>\n",
       "      <th>3</th>\n",
       "      <td>s4</td>\n",
       "      <td>TV Show</td>\n",
       "      <td>Jailbirds New Orleans</td>\n",
       "      <td>NaN</td>\n",
       "      <td>NaN</td>\n",
       "      <td>NaN</td>\n",
       "      <td>2021-09-24 00:00:00</td>\n",
       "      <td>2021</td>\n",
       "      <td>TV-MA</td>\n",
       "      <td>1 Season</td>\n",
       "      <td>Docuseries, Reality TV</td>\n",
       "      <td>Feuds, flirtations and toilet talk go down amo...</td>\n",
       "    </tr>\n",
       "    <tr>\n",
       "      <th>4</th>\n",
       "      <td>s5</td>\n",
       "      <td>TV Show</td>\n",
       "      <td>Kota Factory</td>\n",
       "      <td>NaN</td>\n",
       "      <td>Mayur More, Jitendra Kumar, Ranjan Raj, Alam K...</td>\n",
       "      <td>India</td>\n",
       "      <td>2021-09-24 00:00:00</td>\n",
       "      <td>2021</td>\n",
       "      <td>TV-MA</td>\n",
       "      <td>2 Seasons</td>\n",
       "      <td>International TV Shows, Romantic TV Shows, TV ...</td>\n",
       "      <td>In a city of coaching centers known to train I...</td>\n",
       "    </tr>\n",
       "    <tr>\n",
       "      <th>5</th>\n",
       "      <td>s6</td>\n",
       "      <td>TV Show</td>\n",
       "      <td>Midnight Mass</td>\n",
       "      <td>Mike Flanagan</td>\n",
       "      <td>Kate Siegel, Zach Gilford, Hamish Linklater, H...</td>\n",
       "      <td>NaN</td>\n",
       "      <td>2021-09-24 00:00:00</td>\n",
       "      <td>2021</td>\n",
       "      <td>TV-MA</td>\n",
       "      <td>1 Season</td>\n",
       "      <td>TV Dramas, TV Horror, TV Mysteries</td>\n",
       "      <td>The arrival of a charismatic young priest brin...</td>\n",
       "    </tr>\n",
       "    <tr>\n",
       "      <th>6</th>\n",
       "      <td>s7</td>\n",
       "      <td>Movie</td>\n",
       "      <td>My Little Pony: A New Generation</td>\n",
       "      <td>Robert Cullen, José Luis Ucha</td>\n",
       "      <td>Vanessa Hudgens, Kimiko Glenn, James Marsden, ...</td>\n",
       "      <td>NaN</td>\n",
       "      <td>2021-09-24 00:00:00</td>\n",
       "      <td>2021</td>\n",
       "      <td>PG</td>\n",
       "      <td>91 min</td>\n",
       "      <td>Children &amp; Family Movies</td>\n",
       "      <td>Equestria's divided. But a bright-eyed hero be...</td>\n",
       "    </tr>\n",
       "    <tr>\n",
       "      <th>7</th>\n",
       "      <td>s8</td>\n",
       "      <td>Movie</td>\n",
       "      <td>Sankofa</td>\n",
       "      <td>Haile Gerima</td>\n",
       "      <td>Kofi Ghanaba, Oyafunmike Ogunlano, Alexandra D...</td>\n",
       "      <td>United States, Ghana, Burkina Faso, United Kin...</td>\n",
       "      <td>2021-09-24 00:00:00</td>\n",
       "      <td>1993</td>\n",
       "      <td>TV-MA</td>\n",
       "      <td>125 min</td>\n",
       "      <td>Dramas, Independent Movies, International Movies</td>\n",
       "      <td>On a photo shoot in Ghana, an American model s...</td>\n",
       "    </tr>\n",
       "    <tr>\n",
       "      <th>8</th>\n",
       "      <td>s9</td>\n",
       "      <td>TV Show</td>\n",
       "      <td>The Great British Baking Show</td>\n",
       "      <td>Andy Devonshire</td>\n",
       "      <td>Mel Giedroyc, Sue Perkins, Mary Berry, Paul Ho...</td>\n",
       "      <td>United Kingdom</td>\n",
       "      <td>2021-09-24 00:00:00</td>\n",
       "      <td>2021</td>\n",
       "      <td>TV-14</td>\n",
       "      <td>9 Seasons</td>\n",
       "      <td>British TV Shows, Reality TV</td>\n",
       "      <td>A talented batch of amateur bakers face off in...</td>\n",
       "    </tr>\n",
       "    <tr>\n",
       "      <th>9</th>\n",
       "      <td>s10</td>\n",
       "      <td>Movie</td>\n",
       "      <td>The Starling</td>\n",
       "      <td>Theodore Melfi</td>\n",
       "      <td>Melissa McCarthy, Chris O'Dowd, Kevin Kline, T...</td>\n",
       "      <td>United States</td>\n",
       "      <td>2021-09-24 00:00:00</td>\n",
       "      <td>2021</td>\n",
       "      <td>PG-13</td>\n",
       "      <td>104 min</td>\n",
       "      <td>Comedies, Dramas</td>\n",
       "      <td>A woman adjusting to life after a loss contend...</td>\n",
       "    </tr>\n",
       "  </tbody>\n",
       "</table>\n",
       "</div>"
      ],
      "text/plain": [
       "  show_id     type                             title  \\\n",
       "0      s1    Movie              Dick Johnson Is Dead   \n",
       "1      s2  TV Show                     Blood & Water   \n",
       "2      s3  TV Show                         Ganglands   \n",
       "3      s4  TV Show             Jailbirds New Orleans   \n",
       "4      s5  TV Show                      Kota Factory   \n",
       "5      s6  TV Show                     Midnight Mass   \n",
       "6      s7    Movie  My Little Pony: A New Generation   \n",
       "7      s8    Movie                           Sankofa   \n",
       "8      s9  TV Show     The Great British Baking Show   \n",
       "9     s10    Movie                      The Starling   \n",
       "\n",
       "                        director  \\\n",
       "0                Kirsten Johnson   \n",
       "1                            NaN   \n",
       "2                Julien Leclercq   \n",
       "3                            NaN   \n",
       "4                            NaN   \n",
       "5                  Mike Flanagan   \n",
       "6  Robert Cullen, José Luis Ucha   \n",
       "7                   Haile Gerima   \n",
       "8                Andy Devonshire   \n",
       "9                 Theodore Melfi   \n",
       "\n",
       "                                                cast  \\\n",
       "0                                                NaN   \n",
       "1  Ama Qamata, Khosi Ngema, Gail Mabalane, Thaban...   \n",
       "2  Sami Bouajila, Tracy Gotoas, Samuel Jouy, Nabi...   \n",
       "3                                                NaN   \n",
       "4  Mayur More, Jitendra Kumar, Ranjan Raj, Alam K...   \n",
       "5  Kate Siegel, Zach Gilford, Hamish Linklater, H...   \n",
       "6  Vanessa Hudgens, Kimiko Glenn, James Marsden, ...   \n",
       "7  Kofi Ghanaba, Oyafunmike Ogunlano, Alexandra D...   \n",
       "8  Mel Giedroyc, Sue Perkins, Mary Berry, Paul Ho...   \n",
       "9  Melissa McCarthy, Chris O'Dowd, Kevin Kline, T...   \n",
       "\n",
       "                                             country           date_added  \\\n",
       "0                                      United States  2021-09-25 00:00:00   \n",
       "1                                       South Africa  2021-09-24 00:00:00   \n",
       "2                                                NaN  2021-09-24 00:00:00   \n",
       "3                                                NaN  2021-09-24 00:00:00   \n",
       "4                                              India  2021-09-24 00:00:00   \n",
       "5                                                NaN  2021-09-24 00:00:00   \n",
       "6                                                NaN  2021-09-24 00:00:00   \n",
       "7  United States, Ghana, Burkina Faso, United Kin...  2021-09-24 00:00:00   \n",
       "8                                     United Kingdom  2021-09-24 00:00:00   \n",
       "9                                      United States  2021-09-24 00:00:00   \n",
       "\n",
       "   release_year rating   duration  \\\n",
       "0          2020  PG-13     90 min   \n",
       "1          2021  TV-MA  2 Seasons   \n",
       "2          2021  TV-MA   1 Season   \n",
       "3          2021  TV-MA   1 Season   \n",
       "4          2021  TV-MA  2 Seasons   \n",
       "5          2021  TV-MA   1 Season   \n",
       "6          2021     PG     91 min   \n",
       "7          1993  TV-MA    125 min   \n",
       "8          2021  TV-14  9 Seasons   \n",
       "9          2021  PG-13    104 min   \n",
       "\n",
       "                                           listed_in  \\\n",
       "0                                      Documentaries   \n",
       "1    International TV Shows, TV Dramas, TV Mysteries   \n",
       "2  Crime TV Shows, International TV Shows, TV Act...   \n",
       "3                             Docuseries, Reality TV   \n",
       "4  International TV Shows, Romantic TV Shows, TV ...   \n",
       "5                 TV Dramas, TV Horror, TV Mysteries   \n",
       "6                           Children & Family Movies   \n",
       "7   Dramas, Independent Movies, International Movies   \n",
       "8                       British TV Shows, Reality TV   \n",
       "9                                   Comedies, Dramas   \n",
       "\n",
       "                                         description  \n",
       "0  As her father nears the end of his life, filmm...  \n",
       "1  After crossing paths at a party, a Cape Town t...  \n",
       "2  To protect his family from a powerful drug lor...  \n",
       "3  Feuds, flirtations and toilet talk go down amo...  \n",
       "4  In a city of coaching centers known to train I...  \n",
       "5  The arrival of a charismatic young priest brin...  \n",
       "6  Equestria's divided. But a bright-eyed hero be...  \n",
       "7  On a photo shoot in Ghana, an American model s...  \n",
       "8  A talented batch of amateur bakers face off in...  \n",
       "9  A woman adjusting to life after a loss contend...  "
      ]
     },
     "execution_count": 35,
     "metadata": {},
     "output_type": "execute_result"
    }
   ],
   "source": [
    "df_stream.head(10)"
   ]
  },
  {
   "cell_type": "code",
   "execution_count": 41,
   "id": "d729f659-0d14-4869-a350-9bb889125b49",
   "metadata": {
    "tags": []
   },
   "outputs": [
    {
     "data": {
      "text/plain": [
       "(48513, 9)"
      ]
     },
     "execution_count": 41,
     "metadata": {},
     "output_type": "execute_result"
    }
   ],
   "source": [
    "df_movies = pd.read_csv(\"./data/final_data.csv\", \n",
    "               usecols = ['id', 'Name', 'PosterLink', 'Genres', 'Actors', \n",
    "                          'Director','Description', 'DatePublished', 'Keywords'], \n",
    "               parse_dates = [\"DatePublished\"])\n",
    "df_movies[\"year\"] = df_movies[\"DatePublished\"].dt.year.fillna(0).astype(int)\n",
    "df_movies.drop([\"DatePublished\"], axis=1, inplace=True)\n",
    "df_movies.shape"
   ]
  },
  {
   "cell_type": "code",
   "execution_count": 42,
   "id": "06b64206-cfb7-4b9b-8b8e-b325709ffc40",
   "metadata": {
    "tags": []
   },
   "outputs": [
    {
     "data": {
      "text/html": [
       "<div>\n",
       "<style scoped>\n",
       "    .dataframe tbody tr th:only-of-type {\n",
       "        vertical-align: middle;\n",
       "    }\n",
       "\n",
       "    .dataframe tbody tr th {\n",
       "        vertical-align: top;\n",
       "    }\n",
       "\n",
       "    .dataframe thead th {\n",
       "        text-align: right;\n",
       "    }\n",
       "</style>\n",
       "<table border=\"1\" class=\"dataframe\">\n",
       "  <thead>\n",
       "    <tr style=\"text-align: right;\">\n",
       "      <th></th>\n",
       "      <th>id</th>\n",
       "      <th>Name</th>\n",
       "      <th>PosterLink</th>\n",
       "      <th>Genres</th>\n",
       "      <th>Actors</th>\n",
       "      <th>Director</th>\n",
       "      <th>Description</th>\n",
       "      <th>Keywords</th>\n",
       "      <th>year</th>\n",
       "    </tr>\n",
       "  </thead>\n",
       "  <tbody>\n",
       "    <tr>\n",
       "      <th>0</th>\n",
       "      <td>0</td>\n",
       "      <td>Sallie Gardner at a Gallop</td>\n",
       "      <td>https://m.media-amazon.com/images/M/MV5BMjk0Mz...</td>\n",
       "      <td>Documentary,Short</td>\n",
       "      <td>Gilbert Domm,Sallie Gardner</td>\n",
       "      <td>Eadweard Muybridge</td>\n",
       "      <td>Sallie Gardner at a Gallop is a short starring...</td>\n",
       "      <td>19th century,1870s,nature,horse,horse riding</td>\n",
       "      <td>1878</td>\n",
       "    </tr>\n",
       "    <tr>\n",
       "      <th>1</th>\n",
       "      <td>1</td>\n",
       "      <td>Buffalo Running</td>\n",
       "      <td>https://m.media-amazon.com/images/M/MV5BMTFkM2...</td>\n",
       "      <td>Documentary,Short</td>\n",
       "      <td>NaN</td>\n",
       "      <td>Eadweard Muybridge</td>\n",
       "      <td>NaN</td>\n",
       "      <td>1880s,19th century,buffalo running,american bi...</td>\n",
       "      <td>1883</td>\n",
       "    </tr>\n",
       "    <tr>\n",
       "      <th>2</th>\n",
       "      <td>2</td>\n",
       "      <td>Man Walking Around the Corner</td>\n",
       "      <td>https://m.media-amazon.com/images/M/MV5BYTM3OW...</td>\n",
       "      <td>Documentary,Short</td>\n",
       "      <td>NaN</td>\n",
       "      <td>Louis Aimé Augustin Le Prince</td>\n",
       "      <td>NaN</td>\n",
       "      <td>walking,one man show,1880s</td>\n",
       "      <td>0</td>\n",
       "    </tr>\n",
       "    <tr>\n",
       "      <th>3</th>\n",
       "      <td>3</td>\n",
       "      <td>Traffic Crossing Leeds Bridge</td>\n",
       "      <td>https://m.media-amazon.com/images/M/MV5BYjZhZj...</td>\n",
       "      <td>Documentary,Short</td>\n",
       "      <td>Cj Pallister</td>\n",
       "      <td>Louis Aimé Augustin Le Prince</td>\n",
       "      <td>Traffic Crossing Leeds Bridge is a short starr...</td>\n",
       "      <td>bridge,street life,1880s,traffic,horse</td>\n",
       "      <td>0</td>\n",
       "    </tr>\n",
       "    <tr>\n",
       "      <th>4</th>\n",
       "      <td>4</td>\n",
       "      <td>Roundhay Garden Scene</td>\n",
       "      <td>https://m.media-amazon.com/images/M/MV5BOGE3Yj...</td>\n",
       "      <td>Documentary,Short</td>\n",
       "      <td>Annie Hartley,Adolphe Le Prince,Joseph Whitley...</td>\n",
       "      <td>Louis Aimé Augustin Le Prince</td>\n",
       "      <td>Roundhay Garden Scene is a short starring Anni...</td>\n",
       "      <td>place name in title,first of its kind,garden,1...</td>\n",
       "      <td>1888</td>\n",
       "    </tr>\n",
       "  </tbody>\n",
       "</table>\n",
       "</div>"
      ],
      "text/plain": [
       "   id                           Name  \\\n",
       "0   0     Sallie Gardner at a Gallop   \n",
       "1   1                Buffalo Running   \n",
       "2   2  Man Walking Around the Corner   \n",
       "3   3  Traffic Crossing Leeds Bridge   \n",
       "4   4          Roundhay Garden Scene   \n",
       "\n",
       "                                          PosterLink             Genres  \\\n",
       "0  https://m.media-amazon.com/images/M/MV5BMjk0Mz...  Documentary,Short   \n",
       "1  https://m.media-amazon.com/images/M/MV5BMTFkM2...  Documentary,Short   \n",
       "2  https://m.media-amazon.com/images/M/MV5BYTM3OW...  Documentary,Short   \n",
       "3  https://m.media-amazon.com/images/M/MV5BYjZhZj...  Documentary,Short   \n",
       "4  https://m.media-amazon.com/images/M/MV5BOGE3Yj...  Documentary,Short   \n",
       "\n",
       "                                              Actors  \\\n",
       "0                        Gilbert Domm,Sallie Gardner   \n",
       "1                                                NaN   \n",
       "2                                                NaN   \n",
       "3                                       Cj Pallister   \n",
       "4  Annie Hartley,Adolphe Le Prince,Joseph Whitley...   \n",
       "\n",
       "                        Director  \\\n",
       "0             Eadweard Muybridge   \n",
       "1             Eadweard Muybridge   \n",
       "2  Louis Aimé Augustin Le Prince   \n",
       "3  Louis Aimé Augustin Le Prince   \n",
       "4  Louis Aimé Augustin Le Prince   \n",
       "\n",
       "                                         Description  \\\n",
       "0  Sallie Gardner at a Gallop is a short starring...   \n",
       "1                                                NaN   \n",
       "2                                                NaN   \n",
       "3  Traffic Crossing Leeds Bridge is a short starr...   \n",
       "4  Roundhay Garden Scene is a short starring Anni...   \n",
       "\n",
       "                                            Keywords  year  \n",
       "0       19th century,1870s,nature,horse,horse riding  1878  \n",
       "1  1880s,19th century,buffalo running,american bi...  1883  \n",
       "2                         walking,one man show,1880s     0  \n",
       "3             bridge,street life,1880s,traffic,horse     0  \n",
       "4  place name in title,first of its kind,garden,1...  1888  "
      ]
     },
     "execution_count": 42,
     "metadata": {},
     "output_type": "execute_result"
    }
   ],
   "source": [
    "df_movies.head()"
   ]
  },
  {
   "cell_type": "code",
   "execution_count": 63,
   "id": "00243019-a8db-4b28-bb4c-7597a653504f",
   "metadata": {
    "tags": []
   },
   "outputs": [],
   "source": [
    "# Plot dataset\n",
    "plots = pd.read_csv('./data/wiki_movie_plots_deduped.csv')\n",
    "#plots = plots[plots['Release Year'] > 1970]\n",
    "plots = plots[plots.duplicated(subset=['Title', 'Release Year', 'Plot']) == False]\n",
    "plots = plots[plots.duplicated(subset=['Title', 'Release Year']) == False]\n",
    "plots = plots[['Title', 'Plot', 'Release Year']]\n",
    "\n",
    "plots.columns = ['Name', 'Plot', 'year']\n",
    "\n",
    "# Merge\n",
    "df = df_movies.merge(plots, on=['Name', 'year'], how='left').fillna('')\n",
    "df.reset_index(drop=True, inplace=True)"
   ]
  },
  {
   "cell_type": "code",
   "execution_count": 64,
   "id": "c874d1b9-0a19-4d3e-b15a-8dd7c9826bf8",
   "metadata": {
    "tags": []
   },
   "outputs": [
    {
     "data": {
      "text/plain": [
       "(48513, 10)"
      ]
     },
     "execution_count": 64,
     "metadata": {},
     "output_type": "execute_result"
    }
   ],
   "source": [
    "df.shape"
   ]
  },
  {
   "cell_type": "code",
   "execution_count": 48,
   "id": "ed46d061-6393-4b28-8fd5-69c023aef517",
   "metadata": {
    "tags": []
   },
   "outputs": [
    {
     "data": {
      "text/plain": [
       "(22998, 15)"
      ]
     },
     "execution_count": 48,
     "metadata": {},
     "output_type": "execute_result"
    }
   ],
   "source": [
    "df2 = df_stream.merge(plots, left_on=['title', 'release_year'], right_on=['Name', 'year'], how='left').fillna('')\n",
    "df2.shape"
   ]
  },
  {
   "cell_type": "code",
   "execution_count": 56,
   "id": "1ca29274-3dda-432a-ad32-819410ee8da3",
   "metadata": {
    "tags": []
   },
   "outputs": [],
   "source": [
    "def get_embedding(text, model=\"text-embedding-ada-002\"):\n",
    "    text = text.replace(\"\\n\", \" \")\n",
    "    return client.embeddings.create(input = [text], model=model)['data'][0]['embedding']"
   ]
  },
  {
   "cell_type": "code",
   "execution_count": 57,
   "id": "c7721f35-538b-4be2-a965-04ec9b4478cd",
   "metadata": {
    "tags": []
   },
   "outputs": [],
   "source": [
    "df_movies = df_movies.fillna('')"
   ]
  },
  {
   "cell_type": "code",
   "execution_count": 65,
   "id": "e2fa4922-33a2-44ea-8dba-4481e1a5e712",
   "metadata": {
    "tags": []
   },
   "outputs": [
    {
     "data": {
      "text/html": [
       "<div>\n",
       "<style scoped>\n",
       "    .dataframe tbody tr th:only-of-type {\n",
       "        vertical-align: middle;\n",
       "    }\n",
       "\n",
       "    .dataframe tbody tr th {\n",
       "        vertical-align: top;\n",
       "    }\n",
       "\n",
       "    .dataframe thead th {\n",
       "        text-align: right;\n",
       "    }\n",
       "</style>\n",
       "<table border=\"1\" class=\"dataframe\">\n",
       "  <thead>\n",
       "    <tr style=\"text-align: right;\">\n",
       "      <th></th>\n",
       "      <th>id</th>\n",
       "      <th>Name</th>\n",
       "      <th>PosterLink</th>\n",
       "      <th>Genres</th>\n",
       "      <th>Actors</th>\n",
       "      <th>Director</th>\n",
       "      <th>Description</th>\n",
       "      <th>Keywords</th>\n",
       "      <th>year</th>\n",
       "      <th>Plot</th>\n",
       "    </tr>\n",
       "  </thead>\n",
       "  <tbody>\n",
       "    <tr>\n",
       "      <th>0</th>\n",
       "      <td>0</td>\n",
       "      <td>Sallie Gardner at a Gallop</td>\n",
       "      <td>https://m.media-amazon.com/images/M/MV5BMjk0Mz...</td>\n",
       "      <td>Documentary,Short</td>\n",
       "      <td>Gilbert Domm,Sallie Gardner</td>\n",
       "      <td>Eadweard Muybridge</td>\n",
       "      <td>Sallie Gardner at a Gallop is a short starring...</td>\n",
       "      <td>19th century,1870s,nature,horse,horse riding</td>\n",
       "      <td>1878</td>\n",
       "      <td></td>\n",
       "    </tr>\n",
       "    <tr>\n",
       "      <th>1</th>\n",
       "      <td>1</td>\n",
       "      <td>Buffalo Running</td>\n",
       "      <td>https://m.media-amazon.com/images/M/MV5BMTFkM2...</td>\n",
       "      <td>Documentary,Short</td>\n",
       "      <td></td>\n",
       "      <td>Eadweard Muybridge</td>\n",
       "      <td></td>\n",
       "      <td>1880s,19th century,buffalo running,american bi...</td>\n",
       "      <td>1883</td>\n",
       "      <td></td>\n",
       "    </tr>\n",
       "    <tr>\n",
       "      <th>2</th>\n",
       "      <td>2</td>\n",
       "      <td>Man Walking Around the Corner</td>\n",
       "      <td>https://m.media-amazon.com/images/M/MV5BYTM3OW...</td>\n",
       "      <td>Documentary,Short</td>\n",
       "      <td></td>\n",
       "      <td>Louis Aimé Augustin Le Prince</td>\n",
       "      <td></td>\n",
       "      <td>walking,one man show,1880s</td>\n",
       "      <td>0</td>\n",
       "      <td></td>\n",
       "    </tr>\n",
       "    <tr>\n",
       "      <th>3</th>\n",
       "      <td>3</td>\n",
       "      <td>Traffic Crossing Leeds Bridge</td>\n",
       "      <td>https://m.media-amazon.com/images/M/MV5BYjZhZj...</td>\n",
       "      <td>Documentary,Short</td>\n",
       "      <td>Cj Pallister</td>\n",
       "      <td>Louis Aimé Augustin Le Prince</td>\n",
       "      <td>Traffic Crossing Leeds Bridge is a short starr...</td>\n",
       "      <td>bridge,street life,1880s,traffic,horse</td>\n",
       "      <td>0</td>\n",
       "      <td></td>\n",
       "    </tr>\n",
       "    <tr>\n",
       "      <th>4</th>\n",
       "      <td>4</td>\n",
       "      <td>Roundhay Garden Scene</td>\n",
       "      <td>https://m.media-amazon.com/images/M/MV5BOGE3Yj...</td>\n",
       "      <td>Documentary,Short</td>\n",
       "      <td>Annie Hartley,Adolphe Le Prince,Joseph Whitley...</td>\n",
       "      <td>Louis Aimé Augustin Le Prince</td>\n",
       "      <td>Roundhay Garden Scene is a short starring Anni...</td>\n",
       "      <td>place name in title,first of its kind,garden,1...</td>\n",
       "      <td>1888</td>\n",
       "      <td></td>\n",
       "    </tr>\n",
       "  </tbody>\n",
       "</table>\n",
       "</div>"
      ],
      "text/plain": [
       "   id                           Name  \\\n",
       "0   0     Sallie Gardner at a Gallop   \n",
       "1   1                Buffalo Running   \n",
       "2   2  Man Walking Around the Corner   \n",
       "3   3  Traffic Crossing Leeds Bridge   \n",
       "4   4          Roundhay Garden Scene   \n",
       "\n",
       "                                          PosterLink             Genres  \\\n",
       "0  https://m.media-amazon.com/images/M/MV5BMjk0Mz...  Documentary,Short   \n",
       "1  https://m.media-amazon.com/images/M/MV5BMTFkM2...  Documentary,Short   \n",
       "2  https://m.media-amazon.com/images/M/MV5BYTM3OW...  Documentary,Short   \n",
       "3  https://m.media-amazon.com/images/M/MV5BYjZhZj...  Documentary,Short   \n",
       "4  https://m.media-amazon.com/images/M/MV5BOGE3Yj...  Documentary,Short   \n",
       "\n",
       "                                              Actors  \\\n",
       "0                        Gilbert Domm,Sallie Gardner   \n",
       "1                                                      \n",
       "2                                                      \n",
       "3                                       Cj Pallister   \n",
       "4  Annie Hartley,Adolphe Le Prince,Joseph Whitley...   \n",
       "\n",
       "                        Director  \\\n",
       "0             Eadweard Muybridge   \n",
       "1             Eadweard Muybridge   \n",
       "2  Louis Aimé Augustin Le Prince   \n",
       "3  Louis Aimé Augustin Le Prince   \n",
       "4  Louis Aimé Augustin Le Prince   \n",
       "\n",
       "                                         Description  \\\n",
       "0  Sallie Gardner at a Gallop is a short starring...   \n",
       "1                                                      \n",
       "2                                                      \n",
       "3  Traffic Crossing Leeds Bridge is a short starr...   \n",
       "4  Roundhay Garden Scene is a short starring Anni...   \n",
       "\n",
       "                                            Keywords  year Plot  \n",
       "0       19th century,1870s,nature,horse,horse riding  1878       \n",
       "1  1880s,19th century,buffalo running,american bi...  1883       \n",
       "2                         walking,one man show,1880s     0       \n",
       "3             bridge,street life,1880s,traffic,horse     0       \n",
       "4  place name in title,first of its kind,garden,1...  1888       "
      ]
     },
     "execution_count": 65,
     "metadata": {},
     "output_type": "execute_result"
    }
   ],
   "source": [
    "df.head()"
   ]
  },
  {
   "cell_type": "code",
   "execution_count": 66,
   "id": "58750e53-3107-44ce-99b2-25112fce1075",
   "metadata": {
    "tags": []
   },
   "outputs": [],
   "source": [
    "import re\n",
    "\n",
    "# Function to clean text data\n",
    "def clean_text(text):\n",
    "    if not isinstance(text, str):\n",
    "        return ''\n",
    "    # Replace commas and other non-alphabetic characters with spaces\n",
    "    cleaned_text = re.sub(r'[^a-zA-Z\\s]', ' ', text)\n",
    "    # Convert to lowercase and strip leading/trailing whitespace\n",
    "    cleaned_text = cleaned_text.lower().strip()\n",
    "    # Remove extra spaces\n",
    "    cleaned_text = re.sub(r'\\s+', ' ', cleaned_text)\n",
    "    return cleaned_text\n",
    "\n",
    "# Apply text cleaning to relevant columns\n",
    "df['Description'] = df['Description'].apply(clean_text)\n",
    "df['Name'] = df['Name'].apply(clean_text)\n",
    "df['Genres'] = df['Genres'].apply(clean_text)\n",
    "df['Keywords'] = df['Keywords'].apply(clean_text)\n",
    "df['Plot'] = df['Plot'].apply(clean_text)\n",
    "\n",
    "# Combine relevant fields into a single text field for each movie\n",
    "df['Combined_Text'] = df['Name'] + ' ' + df['Genres'] + ' ' + df['Description'] + ' ' + df['Keywords'] + ' ' + df['Plot']"
   ]
  },
  {
   "cell_type": "code",
   "execution_count": 68,
   "id": "df7ac439-bef9-46bb-90ba-d774d9b9f107",
   "metadata": {
    "tags": []
   },
   "outputs": [
    {
     "data": {
      "text/plain": [
       "(48513, 11)"
      ]
     },
     "execution_count": 68,
     "metadata": {},
     "output_type": "execute_result"
    }
   ],
   "source": [
    "df.shape"
   ]
  },
  {
   "cell_type": "code",
   "execution_count": null,
   "id": "2bde7d45-c0a4-488b-9e05-58286b12d2d7",
   "metadata": {},
   "outputs": [],
   "source": [
    "from sklearn.feature_extraction.text import TfidfVectorizer\n",
    "\n",
    "# Vectorize the combined text using TF-IDF\n",
    "vectorizer = TfidfVectorizer()\n",
    "tfidf_matrix = vectorizer.fit_transform(df_movies['Combined_Text'])\n",
    "\n",
    "# Example: Display the shape of the TF-IDF matrix\n",
    "print(tfidf_matrix.shape)"
   ]
  },
  {
   "cell_type": "code",
   "execution_count": null,
   "id": "6f76da9f-da89-40e7-8363-e584d5b10dc5",
   "metadata": {},
   "outputs": [],
   "source": [
    "subset_df = df_movies.head(10)\n",
    "\n",
    "# Choosing the 'Description' column for generating embeddings, fallback to 'Name' if 'Description' is empty\n",
    "embeddings_text = subset_df['Description'].where(subset_df['Description'].str.strip() != '', subset_df['Name'])\n",
    "\n",
    "# Generate embeddings for the selected text\n",
    "# Note: In a real-world scenario, you would iterate over the dataset and generate embeddings in batches\n",
    "embeddings = [get_embedding(text) for text in embeddings_text]\n",
    "\n",
    "# Show the shape of the first embedding as an example\n",
    "embeddings[0].shape if embeddings else \"No embeddings generated\""
   ]
  },
  {
   "cell_type": "code",
   "execution_count": 73,
   "id": "d9691cc0-e739-4af9-b4cb-d9de30f5bb92",
   "metadata": {
    "tags": []
   },
   "outputs": [
    {
     "data": {
      "application/vnd.jupyter.widget-view+json": {
       "model_id": "58e544349027482baec4e9d2b0cf1086",
       "version_major": 2,
       "version_minor": 0
      },
      "text/plain": [
       "tokenizer_config.json:   0%|          | 0.00/233 [00:00<?, ?B/s]"
      ]
     },
     "metadata": {},
     "output_type": "display_data"
    },
    {
     "data": {
      "application/vnd.jupyter.widget-view+json": {
       "model_id": "360de7f948da426bb9932d7789ff3aae",
       "version_major": 2,
       "version_minor": 0
      },
      "text/plain": [
       "vocab.json:   0%|          | 0.00/2.01M [00:00<?, ?B/s]"
      ]
     },
     "metadata": {},
     "output_type": "display_data"
    },
    {
     "data": {
      "application/vnd.jupyter.widget-view+json": {
       "model_id": "46fc206acf264523a3e13c0f63f2e3bf",
       "version_major": 2,
       "version_minor": 0
      },
      "text/plain": [
       "merges.txt:   0%|          | 0.00/917k [00:00<?, ?B/s]"
      ]
     },
     "metadata": {},
     "output_type": "display_data"
    },
    {
     "data": {
      "application/vnd.jupyter.widget-view+json": {
       "model_id": "8785eeeb28134f8cba644bae61fa50f7",
       "version_major": 2,
       "version_minor": 0
      },
      "text/plain": [
       "tokenizer.json:   0%|          | 0.00/4.23M [00:00<?, ?B/s]"
      ]
     },
     "metadata": {},
     "output_type": "display_data"
    },
    {
     "data": {
      "application/vnd.jupyter.widget-view+json": {
       "model_id": "340b0ebbcded408681477a1ff7a92e64",
       "version_major": 2,
       "version_minor": 0
      },
      "text/plain": [
       "special_tokens_map.json:   0%|          | 0.00/98.0 [00:00<?, ?B/s]"
      ]
     },
     "metadata": {},
     "output_type": "display_data"
    },
    {
     "name": "stderr",
     "output_type": "stream",
     "text": [
      "The tokenizer class you load from this checkpoint is not the same type as the class this function is called from. It may result in unexpected tokenization. \n",
      "The tokenizer class you load from this checkpoint is 'GPT4Tokenizer'. \n",
      "The class this function is called from is 'GPT2TokenizerFast'.\n"
     ]
    }
   ],
   "source": [
    "#use hugging face rather than openai -> probably powerful model that chatgpt uses is not needed for this use case\n",
    "tokenizer = GPT2TokenizerFast.from_pretrained('Xenova/text-embedding-ada-002')\n",
    "assert tokenizer.encode('hello world') == [15339, 1917]"
   ]
  },
  {
   "cell_type": "code",
   "execution_count": 75,
   "id": "5611abd1-f604-44ba-ad5a-5e5a01eeda3b",
   "metadata": {},
   "outputs": [
    {
     "data": {
      "text/plain": [
       "[15339, 1917]"
      ]
     },
     "execution_count": 75,
     "metadata": {},
     "output_type": "execute_result"
    }
   ],
   "source": [
    "tokenizer.encode('hello world')"
   ]
  },
  {
   "cell_type": "code",
   "execution_count": null,
   "id": "1265a4da-513e-4dad-bae5-85f9e892c2f2",
   "metadata": {},
   "outputs": [],
   "source": []
  }
 ],
 "metadata": {
  "kernelspec": {
   "display_name": "research-env",
   "language": "python",
   "name": "research-env"
  },
  "language_info": {
   "codemirror_mode": {
    "name": "ipython",
    "version": 3
   },
   "file_extension": ".py",
   "mimetype": "text/x-python",
   "name": "python",
   "nbconvert_exporter": "python",
   "pygments_lexer": "ipython3",
   "version": "3.10.4"
  }
 },
 "nbformat": 4,
 "nbformat_minor": 5
}
